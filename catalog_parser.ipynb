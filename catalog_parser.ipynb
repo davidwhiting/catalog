{
 "cells": [
  {
   "cell_type": "markdown",
   "id": "a0275bcc-8c5b-4890-8d8d-9ec586dc12c9",
   "metadata": {},
   "source": [
    "# Create Catalog\n",
    "## Convert PDF to TXT"
   ]
  },
  {
   "cell_type": "code",
   "execution_count": 1,
   "id": "8ac9f57d-1417-4aa6-bf1a-97cf95703885",
   "metadata": {},
   "outputs": [],
   "source": [
    "import sys\n",
    "from pdfminer.pdfdocument import PDFDocument\n",
    "from pdfminer.pdfparser import PDFParser\n",
    "from pdfminer.pdfinterp import PDFResourceManager, PDFPageInterpreter\n",
    "from pdfminer.pdfdevice import PDFDevice, TagExtractor\n",
    "from pdfminer.pdfpage import PDFPage\n",
    "from pdfminer.converter import TextConverter\n",
    "from pdfminer.cmapdb import CMapDB\n",
    "from pdfminer.layout import LTTextContainer, LAParams\n",
    "from pdfminer.image import ImageWriter\n",
    "\n",
    "def pdf_to_txt(outfile='tmp_pdf2txt.txt', infile='2023-2024-catalog-courses.pdf', \n",
    "               pages='', maxpages=0, password=b'', debug=0 ):\n",
    "\n",
    "    # input option\n",
    "    pagenos = set()\n",
    "    if pages != '':\n",
    "        pagenos.update( int(x)-1 for x in pages.split(',') )\n",
    "    imagewriter = None\n",
    "    rotation = 0\n",
    "    stripcontrol = False\n",
    "    layoutmode = 'normal'\n",
    "    encoding = 'utf-8'\n",
    "    pageno = 1\n",
    "    scale = 1\n",
    "    caching = True\n",
    "    showpageno = True\n",
    "    laparams = LAParams()\n",
    "    #\n",
    "    rsrcmgr = PDFResourceManager(caching=caching)\n",
    "    outfp = open(outfile, 'w', encoding=encoding)\n",
    "    device = TextConverter(rsrcmgr, outfp, laparams=laparams, imagewriter=None)\n",
    "    with open(infile, 'rb') as fp:\n",
    "        interpreter = PDFPageInterpreter(rsrcmgr, device)\n",
    "        for page in PDFPage.get_pages(fp, pagenos, maxpages=maxpages, password=password,\n",
    "                                      caching=caching, check_extractable=True):\n",
    "            interpreter.process_page(page)\n",
    "    device.close()\n",
    "    outfp.close()\n",
    "    return"
   ]
  },
  {
   "cell_type": "code",
   "execution_count": 2,
   "id": "8b8262e7-c25b-4b0e-a8c7-76f355453264",
   "metadata": {},
   "outputs": [],
   "source": [
    "pdf_to_txt()"
   ]
  },
  {
   "cell_type": "markdown",
   "id": "14abf842-f4fa-4d14-9c18-41de553eb5d8",
   "metadata": {},
   "source": [
    "## Parse Text to Create Course Dictionary"
   ]
  },
  {
   "cell_type": "markdown",
   "id": "0416fab3-21f9-40ca-96e5-214a4febf2d9",
   "metadata": {},
   "source": [
    "### Regular Expressions"
   ]
  },
  {
   "cell_type": "code",
   "execution_count": 3,
   "id": "4b539521-85e9-4514-bec8-e0b6c244ce97",
   "metadata": {},
   "outputs": [],
   "source": [
    "import re\n",
    "\n",
    "# Course Start and End patterns\n",
    "course_pattern = re.compile(r'^([A-Z]{3}[A-Z]? \\d{3}[A-Z]?) ([A-Z].+?) \\((\\d(?:–\\d)?)\\)$')\n",
    "course_start_pattern = re.compile(r'^([A-Z]{3}[A-Z]? \\d{3}[A-Z]?) ([A-Z].+?)$')\n",
    "course_end_pattern = re.compile(r'^(.+?) \\((\\d(?:–\\d)?)\\)$')\n",
    "\n",
    "# Prerequisites\n",
    "prerequisite_pattern = re.compile(r'Prerequisites?:\\s(.*?)(?=\\.\\s|\\.\\))', re.DOTALL)\n",
    "    \n",
    "# Recommended\n",
    "recommended_pattern = re.compile(r'Recommended:\\s([^\\.]+)\\.\\s')\n",
    "    \n",
    "# Substitutions\n",
    "substitution_pattern = re.compile(r'may\\s+receive\\s+credit\\s+for\\s+only\\s+one\\s+of\\s+the\\s+following\\s+courses: ')\n",
    "\n",
    "# Warnings \n",
    "warning_pattern = re.compile(r'^\\(([^\\)]+)\\)')"
   ]
  },
  {
   "cell_type": "markdown",
   "id": "9ef9dfc4-e0d0-4bb6-adca-f4422a06dd21",
   "metadata": {},
   "source": [
    "### Functions for Creating Courses"
   ]
  },
  {
   "cell_type": "code",
   "execution_count": 4,
   "id": "52bf68ea-d121-4a83-a7f1-20f0c13bb78f",
   "metadata": {},
   "outputs": [],
   "source": [
    "def create_new_course(name, title, credit):\n",
    "    course = {\n",
    "        'name': name.strip(),\n",
    "        'title': title.strip(),\n",
    "        'credit': credit.strip(),\n",
    "        'description': '',\n",
    "        'prerequisites': '',\n",
    "        'recommended': '',\n",
    "        'warnings': '',\n",
    "        'substitutions': ''\n",
    "    }\n",
    "    return course\n",
    "\n",
    "def update_description(course, sub=substitution_pattern, pre=prerequisite_pattern, \n",
    "                       warn=warning_pattern, recd=recommended_pattern):\n",
    "    description = re.sub(r'\\n', '', course['description'])\n",
    "    # Substitutions\n",
    "    submatch = sub.search(description)\n",
    "    if submatch:\n",
    "        start, end = submatch.span()\n",
    "        course['substitutions'] = description[end:-1].strip()\n",
    "    # Prerequisites\n",
    "    prematch = pre.search(description)\n",
    "    if prematch:\n",
    "        course['prerequisites'] = prematch.group(1)\n",
    "    # Recommended\n",
    "    recmatch = recd.search(description)\n",
    "    if recmatch:\n",
    "        course['recommended'] = recmatch.group(1)\n",
    "    # Warnings\n",
    "    warnmatch = warn.search(description)\n",
    "    if warnmatch:\n",
    "        course['warnings'] = warnmatch.group(1)\n",
    "    \n",
    "    return course\n",
    "\n",
    "def parse_course_info(text):\n",
    "    \n",
    "    # Logic Overview\n",
    "    #\n",
    "    # A course starts by matching a pattern, either\n",
    "    #\n",
    "    #     OneLine = STAT 221 Introduction to Statistics (3)\n",
    "    # or\n",
    "    #     TwoLine = STAT 536 A Really Long Description that \n",
    "    #               Takes Up More than One Line (1-3)\n",
    "    #\n",
    "    # - `course_match` will match OneLine and a new course is created\n",
    "    # - `course_match_start` will match the first line of TwoLine \n",
    "    #   and make the variable `start_course = True`\n",
    "    # - `course_match_end` will match the second line of TwoLine and\n",
    "    #   a new course is created. This is checked only if the variable \n",
    "    #   `start_course = True`\n",
    "    # - `course_match` and `course_match_end` will turn on the indicator\n",
    "    #   variable `description_on = True`\n",
    "    # - a blank line will set `description_on = False` and indicates\n",
    "    #   the end of the course.\n",
    "    # - after a course is ended, it is moved to `prior_course` and the\n",
    "    #   description is parsed to populate warnings, prerequisites, and \n",
    "    #   recommended in the course\n",
    "    \n",
    "    courses = []\n",
    "    prior_course = None\n",
    "    current_course = None\n",
    "    start_course = False\n",
    "    add_description = False\n",
    "\n",
    "    for line in text.split('\\n'):\n",
    "        \n",
    "        course_match = course_pattern.search(line)\n",
    "        course_match_start = course_start_pattern.search(line)\n",
    "        course_match_end = course_end_pattern.search(line)\n",
    "\n",
    "        if start_course:\n",
    "            # Add the second half of a two-line course title\n",
    "            if course_match_end:\n",
    "                course_title2, course_credit = course_match_end.groups()\n",
    "                course_title = course_title1.strip() + ' ' + course_title2.strip()\n",
    "                current_course = create_new_course(course_name, course_title, course_credit)\n",
    "                courses.append(current_course)\n",
    "                start_course = False\n",
    "                add_description = True\n",
    "\n",
    "        elif course_match:\n",
    "            # If we find a course line, extract information and start a new course\n",
    "            course_name, course_title, course_credit = course_match.groups()\n",
    "            current_course = create_new_course(course_name, course_title, course_credit)\n",
    "            courses.append(current_course)\n",
    "            start_course = False\n",
    "            add_description = True\n",
    "\n",
    "        elif course_match_start:\n",
    "            course_name, course_title1 = course_match_start.groups()\n",
    "            start_course = True                    \n",
    "            \n",
    "        elif current_course is not None:\n",
    "            # If we are in the middle of a course, add the line to its description\n",
    "            if add_description:\n",
    "                # When the description ends, parse it to fill in prerequisites, \n",
    "                # recommended, warnings, and substitutions\n",
    "                if line == '':\n",
    "                    add_description = False\n",
    "                    current_course = update_description(course=current_course)\n",
    "                else:\n",
    "                    current_course['description'] += line + '\\n'\n",
    "\n",
    "    return courses"
   ]
  },
  {
   "cell_type": "markdown",
   "id": "d4a619ab-6ed1-49e0-8392-96039a0c1419",
   "metadata": {},
   "source": [
    "## Read in raw text file"
   ]
  },
  {
   "cell_type": "code",
   "execution_count": null,
   "id": "d0016e9b-2186-44e3-b0f3-be9a2323c750",
   "metadata": {},
   "outputs": [],
   "source": [
    "infile = 'tmp_pdf2txt.txt'\n",
    "with open(infile, 'r') as file:\n",
    "    # Read the entire content of the file into a string\n",
    "    text = file.read()\n",
    "    \n",
    "courses = parse_course_info(text)\n",
    "\n",
    "# Create a dictionary with name as the key\n",
    "classes = {course['name']: course for course in courses}"
   ]
  },
  {
   "cell_type": "markdown",
   "id": "625f6687-2a9d-4e32-82c1-3380c15cea31",
   "metadata": {},
   "source": [
    "### Look at the courses"
   ]
  },
  {
   "cell_type": "code",
   "execution_count": 3,
   "id": "e3dbbacc-77f0-4bca-8f6a-e0346f60fc79",
   "metadata": {},
   "outputs": [
    {
     "ename": "NameError",
     "evalue": "name 're' is not defined",
     "output_type": "error",
     "traceback": [
      "\u001b[0;31m---------------------------------------------------------------------------\u001b[0m",
      "\u001b[0;31mNameError\u001b[0m                                 Traceback (most recent call last)",
      "Cell \u001b[0;32mIn[3], line 7\u001b[0m\n\u001b[1;32m      4\u001b[0m A \u001b[38;5;241m=\u001b[39m class_template\n\u001b[1;32m      6\u001b[0m \u001b[38;5;66;03m## Patterns found in the catalog (add more as needed)\u001b[39;00m\n\u001b[0;32m----> 7\u001b[0m singleton \u001b[38;5;241m=\u001b[39m \u001b[43mre\u001b[49m\u001b[38;5;241m.\u001b[39mcompile(\u001b[38;5;124mf\u001b[39m\u001b[38;5;124m'\u001b[39m\u001b[38;5;124m^\u001b[39m\u001b[38;5;132;01m{\u001b[39;00mA\u001b[38;5;132;01m}\u001b[39;00m\u001b[38;5;124m$\u001b[39m\u001b[38;5;124m'\u001b[39m)\n\u001b[1;32m      9\u001b[0m course_or_list2 \u001b[38;5;241m=\u001b[39m re\u001b[38;5;241m.\u001b[39mcompile(\u001b[38;5;124mf\u001b[39m\u001b[38;5;124m'\u001b[39m\u001b[38;5;124m^\u001b[39m\u001b[38;5;132;01m{\u001b[39;00mA\u001b[38;5;132;01m}\u001b[39;00m\u001b[38;5;124m or \u001b[39m\u001b[38;5;132;01m{\u001b[39;00mA\u001b[38;5;132;01m}\u001b[39;00m\u001b[38;5;124m$\u001b[39m\u001b[38;5;124m'\u001b[39m)\n\u001b[1;32m     10\u001b[0m course_or_list2a \u001b[38;5;241m=\u001b[39m re\u001b[38;5;241m.\u001b[39mcompile(\u001b[38;5;124mf\u001b[39m\u001b[38;5;124m'\u001b[39m\u001b[38;5;124m^\u001b[39m\u001b[38;5;132;01m{\u001b[39;00mA\u001b[38;5;132;01m}\u001b[39;00m\u001b[38;5;124m \u001b[39m\u001b[38;5;124m\\\u001b[39m\u001b[38;5;124m(or \u001b[39m\u001b[38;5;132;01m{\u001b[39;00mA\u001b[38;5;132;01m}\u001b[39;00m\u001b[38;5;124m\\\u001b[39m\u001b[38;5;124m)$\u001b[39m\u001b[38;5;124m'\u001b[39m)\n",
      "\u001b[0;31mNameError\u001b[0m: name 're' is not defined"
     ]
    }
   ],
   "source": [
    "## Regular expression patterns to extract information from the catalog\n",
    "\n",
    "class_template = r'([A-Z]{3}[A-Z]? \\d{3}[A-Z]?)'\n",
    "A = class_template\n",
    "\n",
    "## Patterns found in the catalog (add more as needed)\n",
    "singleton = re.compile(f'^{A}$')\n",
    "\n",
    "course_or_list2 = re.compile(f'^{A} or {A}$')\n",
    "course_or_list2a = re.compile(f'^{A} \\(or {A}\\)$')\n",
    "course_or_list3 = re.compile(f'^{A}, {A}, or {A}$')\n",
    "course_or_list4 = re.compile(f'^{A}, {A}, {A}, or {A}$')\n",
    "course_or_list5 = re.compile(f'^{A}, {A}, {A}, {A}, or {A}$')\n",
    "\n",
    "course_and_list2 = re.compile(f'^{A} and {A}$')\n",
    "course_and_list3 = re.compile(f'^{A}, {A}, and {A}$')\n",
    "course_and_list4 = re.compile(f'^{A}, {A}, {A}, and {A}$')\n",
    "course_and_list5 = re.compile(f'^{A}, {A}, {A}, {A}, and {A}$')\n",
    "\n",
    "language_pattern = re.compile(f'^{A} or appropriate score on a place')\n",
    "\n",
    "prior_pattern = re.compile('(prior program approval)')"
   ]
  },
  {
   "cell_type": "code",
   "execution_count": 7,
   "id": "0a0393bf-b6ab-47db-bd67-99e7f6392c5f",
   "metadata": {},
   "outputs": [
    {
     "data": {
      "text/plain": [
       "''"
      ]
     },
     "execution_count": 7,
     "metadata": {},
     "output_type": "execute_result"
    }
   ],
   "source": [
    "classes['CAPL 398A']['prerequisites']"
   ]
  },
  {
   "cell_type": "code",
   "execution_count": 8,
   "id": "583e1697-cf0b-4968-a27c-2a60b0292ced",
   "metadata": {},
   "outputs": [
    {
     "data": {
      "text/plain": [
       "'WRTG 112 or equivalent'"
      ]
     },
     "execution_count": 8,
     "metadata": {},
     "output_type": "execute_result"
    }
   ],
   "source": [
    "classes['WRTG 394']['prerequisites']"
   ]
  },
  {
   "cell_type": "markdown",
   "id": "df866fc5-5dc7-4be4-8684-f513caae1ae7",
   "metadata": {},
   "source": [
    "#### Editing the course prerequisites to make automation easier\n",
    "\n",
    "- Adding a field ['done'] to exclude while editing"
   ]
  },
  {
   "cell_type": "code",
   "execution_count": null,
   "id": "cafd4c91-ffae-43da-bd47-a60ec3dccf86",
   "metadata": {},
   "outputs": [],
   "source": [
    "def initialize_done(classes):\n",
    "    # Initialize 'done' and 'pre' items in classes dictionary\n",
    "    # We will iterate over items that are not done in the future\n",
    "\n",
    "    for class_name, class_info in classes.items():\n",
    "        prerequisites_text = class_info['prerequisites']\n",
    "\n",
    "        if prerequisites_text == '':\n",
    "            class_info['pre']  = ''\n",
    "            class_info['done'] = 1\n",
    "        else:\n",
    "            class_info['pre']  = ''\n",
    "            class_info['done'] = 0\n",
    "\n",
    "    return classes\n",
    "\n",
    "def mark_all_singles(classes, pattern=singleton):\n",
    "    # Mark classes with prerequisites done so we don't iterate over them anymore\n",
    "\n",
    "    for class_name, class_info in classes.items():\n",
    "        if class_info['done'] == 0:\n",
    "            prerequisites_text = class_info['prerequisites']\n",
    "            match = pattern.search(prerequisites_text)\n",
    "\n",
    "            if match:\n",
    "                class_info['pre']  = prerequisites_text\n",
    "                class_info['done'] = 1\n",
    "\n",
    "    return classes\n",
    "\n",
    "def update_all_prerequisites(classes, pattern, type='or'):   \n",
    "    for class_name, class_info in classes.items():\n",
    "        if class_info['done'] == 0:\n",
    "            prerequisites_text = class_info['prerequisites']\n",
    "            match = pattern.search(prerequisites_text)\n",
    "            if match:\n",
    "                groups = match.groups()\n",
    "                if type == 'or': \n",
    "                    replaced_text = f'({ \" | \".join(groups) })'\n",
    "                elif type == 'and':\n",
    "                    replaced_text = f'({ \" & \".join(groups) })'\n",
    "                class_info['pre'] = replaced_text\n",
    "                class_info['done'] = 1\n",
    "                \n",
    "    return classes\n",
    "\n",
    "def update_language(classes, pattern=language_pattern):   \n",
    "    for class_name, class_info in classes.items():\n",
    "        if class_info['done'] == 0:\n",
    "            prerequisites_text = class_info['prerequisites']\n",
    "            match = pattern.search(prerequisites_text)\n",
    "            if match:\n",
    "                replaced_text = '(' + match.group(1) + ' | \"placement test\")' \n",
    "                class_info['pre'] = replaced_text\n",
    "                class_info['done'] = 1\n",
    "                \n",
    "    return classes\n",
    "\n",
    "def update_prior_program(classes, pattern=prior_pattern):   \n",
    "    for class_name, class_info in classes.items():\n",
    "        if class_info['done'] == 0:\n",
    "            prerequisites_text = class_info['prerequisites']\n",
    "            match = pattern.search(prerequisites_text)\n",
    "            if match:\n",
    "                replaced_text = '\"' + match.group(1) + '\"' \n",
    "                class_info['pre'] = replaced_text\n",
    "                class_info['done'] = 1\n",
    "                \n",
    "    return classes"
   ]
  },
  {
   "cell_type": "code",
   "execution_count": null,
   "id": "deb45eb2-83aa-42ba-b420-ec600683b428",
   "metadata": {},
   "outputs": [],
   "source": [
    "# Mark done classes without prerequisites\n",
    "classes = initialize_done(classes)\n",
    "\n",
    "# Mark done classes with single prerequisite\n",
    "classes = mark_all_singles(classes)\n",
    "\n",
    "# Mark done classes with known patterns\n",
    "classes = update_all_prerequisites(classes, pattern = course_or_list2, type='or')\n",
    "classes = update_all_prerequisites(classes, pattern = course_or_list2a, type='or')\n",
    "classes = update_all_prerequisites(classes, pattern = course_or_list3, type='or')\n",
    "classes = update_all_prerequisites(classes, pattern = course_or_list4, type='or')\n",
    "classes = update_all_prerequisites(classes, pattern = course_or_list5, type='or')\n",
    "\n",
    "classes = update_all_prerequisites(classes, pattern = course_and_list2, type='and')\n",
    "classes = update_all_prerequisites(classes, pattern = course_and_list3, type='and')\n",
    "classes = update_all_prerequisites(classes, pattern = course_and_list4, type='and')\n",
    "classes = update_all_prerequisites(classes, pattern = course_and_list5, type='and')\n",
    "\n",
    "classes = update_language(classes)\n",
    "\n",
    "classes = update_prior_program(classes)"
   ]
  },
  {
   "cell_type": "code",
   "execution_count": 55,
   "id": "523228c9-08ce-40ba-880a-66e64bcdf0d8",
   "metadata": {},
   "outputs": [
    {
     "data": {
      "text/plain": [
       "'MATH 141 and CMSC 315 (or CMSC 350)'"
      ]
     },
     "execution_count": 55,
     "metadata": {},
     "output_type": "execute_result"
    }
   ],
   "source": [
    "classes['CMSC 465']['prerequisites']"
   ]
  },
  {
   "cell_type": "code",
   "execution_count": 56,
   "id": "5e4c7c0f-369f-4b6b-ae10-3cc25ed79cb6",
   "metadata": {},
   "outputs": [],
   "source": [
    "course_and_or_list3 = re.compile(f'^{A} and {A} \\(or {A}\\)$')"
   ]
  },
  {
   "cell_type": "code",
   "execution_count": 62,
   "id": "f526f03d-858f-406b-a063-4e0cce674f05",
   "metadata": {},
   "outputs": [],
   "source": [
    "def update_course3(classes, pattern=course_and_or_list3):   \n",
    "    for class_name, class_info in classes.items():\n",
    "        if class_info['done'] == 0:\n",
    "            prerequisites_text = class_info['prerequisites']\n",
    "            match = pattern.search(prerequisites_text)\n",
    "            if match:\n",
    "                replaced_text = '(' + match.group(1) + ' & (' + match.group(2) + ' | ' + match.group(3) + '))'\n",
    "                class_info['pre'] = replaced_text\n",
    "                class_info['done'] = 1\n",
    "                \n",
    "    return classes"
   ]
  },
  {
   "cell_type": "code",
   "execution_count": 63,
   "id": "80b9e429-018b-475e-ac96-26d40647d64e",
   "metadata": {},
   "outputs": [],
   "source": [
    "classes = update_course3(classes)"
   ]
  },
  {
   "cell_type": "code",
   "execution_count": 58,
   "id": "c78240ed-c03e-4f6a-8dcb-a6faef039b8b",
   "metadata": {},
   "outputs": [],
   "source": [
    "match = course_and_or_list3.search(classes['CMSC 465']['prerequisites'])"
   ]
  },
  {
   "cell_type": "code",
   "execution_count": 59,
   "id": "930beba3-cc07-4268-8fe7-bdf20c72e096",
   "metadata": {},
   "outputs": [
    {
     "data": {
      "text/plain": [
       "('MATH 141', 'CMSC 315', 'CMSC 350')"
      ]
     },
     "execution_count": 59,
     "metadata": {},
     "output_type": "execute_result"
    }
   ],
   "source": [
    "match.groups()"
   ]
  },
  {
   "cell_type": "code",
   "execution_count": 61,
   "id": "26b0ab07-db23-4c2a-85f3-de955bcf79de",
   "metadata": {},
   "outputs": [
    {
     "data": {
      "text/plain": [
       "'(MATH 141 & (CMSC 315 | CMSC 350))'"
      ]
     },
     "execution_count": 61,
     "metadata": {},
     "output_type": "execute_result"
    }
   ],
   "source": [
    "'(' + match.group(1) + ' & (' + match.group(2) + ' | ' + match.group(3) + '))'"
   ]
  },
  {
   "cell_type": "code",
   "execution_count": 64,
   "id": "df3f6e3c-5fbb-4229-b15b-88d9c18dca34",
   "metadata": {
    "scrolled": true
   },
   "outputs": [
    {
     "name": "stdout",
     "output_type": "stream",
     "text": [
      "APTC 495: 27 credits in major coursework\n",
      "ASTD 302: Any writing course\n",
      "ASTD 370: Any WRTG course\n",
      "ASTD 485: MATH 105, STAT 200, or a higher MATH or STAT course\n",
      "BEHS 495: BEHS 300 and completion of all requirements for the social science major\n",
      "BIOL 230: BIOL 103 or other introductory biology course with laboratory\n",
      "BIOL 357: BIOL 325 or another upper-level biology course\n",
      "BMGT 485: BMGT 317, BMGT 364, BMGT 464 (or BMGT 465), and BMGT 484\n",
      "BMGT 495: BMGT 364, BMGT 365, FINC 330 (or BMGT 340), and MRKT 310\n",
      "COMM 300: WRTG 112 or equiva-lent\n",
      "COMM 202: WRTG 112 or equiva-lent\n",
      "COMM 400: WRTG 112 or equivalent\n",
      "COMM 492: WRTG 112 or equivalent\n",
      "COMM 495: COMM 300, COMM 302, and at least 9 additional credits of upper-level COMM, SPCH, and/or JOUR courses\n",
      "CMIT 265: CMIT 202 or CMSC 115 (or CMIS 141)\n",
      "CMIT 320: CMIT 265 or CompTIA Network+ certification\n",
      "CMIT 424: CMIT 202 (or CompTIA A+ certification), CMIT 320 (or CompTIA Security+ certification), and CCJS 321\n",
      "CMIT 495: Completion of at least 27 credits of CMIT course-work\n",
      "CMSC 405: CMSC 325 or CMSC 315 (or CMSC 350)\n",
      "CMSC 420: CMSC 320 (or CMIS 320), IFSM 410, or IFSM 411\n",
      "CMSC 427: CMSC 315 (or CMSC 350) or SDEV 300\n",
      "CMSC 440: CMSC 215 (or CMIS 242) and CMSC 320 (or CMIS 320)\n",
      "CMSC 498: Vary according to topic\n",
      "CMST 495: Completion of 24 credits within the major\n",
      "CSIA 300: Any CMIS, CMIT, CMSC, CMST, CSIA, DATA, IFSM, or SDEV course\n",
      "CSIA 310: IFSM 201 and WRTG 112 or equivalent\n",
      "DATA 230: STAT 200 and MATH 115 (or MATH 107 and MATH 108) or higher\n",
      "EDTP 500: Departmental approval; completion of  90 credits of coursework, including at least 24 credits in content area coursework; and a GPA of at least 2.75 in content area coursework\n",
      "EMGT 302: WRTG 112 or equivalent\n",
      "ENGL 102: WRTG 112 or equivalent\n",
      "ENGL 240: WRTG 112 or equivalent\n",
      "ENGL 281: WRTG 112 or equiva-lent\n",
      "ENGL 303: WRTG 112 or equivalent\n",
      "ENGL 310: WRTG 112 or equivalent\n",
      "ENGL 311: WRTG 112 or equivalent\n",
      "ENGL 363: WRTG 112 or equivalent\n",
      "ENGL 364: WRTG 112 or equivalent\n",
      "ENGL 381: WRTG 112 or equivalent\n",
      "ENGL 384: WRTG 112 or equiva-lent\n",
      "ENGL 439: WRTG 112 or equivalent\n",
      "ENGL 441: WRTG 112 or equivalent\n",
      "ENGL 495: ENGL 240, ENGL 303, and at least 9 additional credits of upper-level ENGL courses\n",
      "ENGL 386: WRTG 112 or equivalent\n",
      "ENGL 406: WRTG 112 or equivalent\n",
      "ENGL 418: WRTG 112 or equivalent\n",
      "ENGL 430: WRTG 112 or equivalent\n",
      "ENGL 433: WRTG 112 or equivalent\n",
      "ENHS 495: Completion of 30 credits of ENHS courses, includ-ing ENHS 305, ENHS 330, and ENHS 340\n",
      "FSCN 302: WRTG 112 or equivalent\n",
      "GERM 211: GERM 112 or appropri-ate score on a placement test\n",
      "GERM 212: GERM 211 or appropri-ate score on a placement test\n",
      "GVPT 495: WRTG 112 or equivalent and 9 upper-level credits in GVPT coursework\n",
      "HMGT 435: HMGT 300 (or BMGT 361) and HMGT 310\n",
      "HMGT 322: HMGT 300 (or BMGT 361) and HMGT 310\n",
      "HIST 289: A 100-level HIST course\n",
      "HIST 326: Any writing course\n",
      "HIST 381: A writing course\n",
      "HIST 392: A writing course\n",
      "HIST 461: A writing course\n",
      "HIST 464: Any writing course\n",
      "HIST 482: A writing course\n",
      "HIST 483: A writing course\n",
      "HIST 495: 21 credits in HIST courses, including HIST 289 and HIST 309\n",
      "HMLS 302: WRTG 112 or equivalent\n",
      "HMLS 495: At least 15 credits in upper-level FSCN, EMGT, HMLS, or PSAD courses (numbered 300 or 400)\n",
      "HUMN 495: HUMN 100, an upper-level ARTH course, an upper-level ENGL course, an upper-level HUMN course, and an upper-level PHIL course\n",
      "IFSM 461: IFSM 311 and either IFSM 330 or CMIS 320\n",
      "JOUR 201: WRTG 112 or equivalent\n",
      "NSCI 100: MATH 105, STAT 200, or a higher MATH or STAT course\n",
      "NSCI 101: MATH 105, STAT 200, or a higher MATH or STAT course\n",
      "NSCI 103: MATH 105, STAT 200, or a higher MATH or STAT course\n",
      "NSCI 120: MATH 105, STAT 200, or a higher MATH or STAT course\n",
      "PHYS 121: MATH 108, MATH 115, or knowledge of college-level trigonometry\n",
      "PSYC 495: PSYC 100, PSYC 300, and completion of all require-ments for the psychology major\n",
      "PSAD 302: WRTG 112 or equivalent\n",
      "SPAN 211: SPAN 112 or appropri-ate score on a placement test\n",
      "SPAN 212: SPAN 211 or appropri-ate score on a placement test\n",
      "SPAN 418: Any 300-level SPAN course or appropriate score on a placement test\n",
      "SPAN 419: Any 300-level SPAN course or appropriate score on a placement test\n",
      "SPCH 324: Any SPCH course or COMM 300\n",
      "SPCH 470: Any SPCH course or COMM 300\n",
      "SPCH 472: Any SPCH course or COMM 300\n",
      "SPCH 482: Any SPCH course or COMM 300\n",
      "WRTG 394: WRTG 112 or equivalent\n",
      "WRTG 291: WRTG 112 or equivalent\n",
      "WRTG 293: WRTG 112 or equivalent\n",
      "WRTG 391: WRTG 112 or equivalent\n",
      "WRTG 393: WRTG 112 or equivalent\n",
      "ACCT 610: 15 credits of undergraduate accounting\n",
      "ACCT 611: 15 credits of undergraduate accounting\n",
      "ACCT 670: Completion of all program courses; may be  taken concurrently with ACCT 635 or INFA 660\n",
      "MSAF 670: Completion of all program courses except FIN 645\n",
      "BIOT 670I: Completion of 30 credits of program course-work, including all core courses\n",
      "BIOT 670M: Completion of 30 credits of program coursework, including all core courses\n",
      "BIOT 670R: Completion of 30 credits of program coursework, including all core courses\n",
      "BIOT 670S: Completion of 30 credits of program coursework, including all core courses\n",
      "DBA 600: DBA 600 and full admission to the DBA program\n",
      "CCPA 880: Permission of the department\n",
      "CJMS 660: 30 credits of program coursework, including all core and specialization courses except MGMT 670\n",
      "DBST 670: 30 credits of program coursework, including all core courses\n",
      "EMAN 670: 30 credits, including all core and specialization courses except MGMT 670\n",
      "ENVM 670: Completion of 27 credits of program coursework\n",
      "HCAD 670: Completion of 36 credits of program coursework\n",
      "HIMS 670: Completion of 30 credits of program coursework, including HIMS 650, HIMS 655, and HIMS 661\n",
      "HSMN 670: Completion of 24 credits of program coursework, including HSMN 610, HSMN 625, HSMN 630, EMAN 620, INFA 660, and BSBD 641\n",
      "IMAT 670: 30 credits of program coursework\n",
      "INFA 670: INFA 610, INFA 620, INFA 630, INFA 640, INFA 650, and INFA 660 (3 credits may be taken concurrently)\n",
      "INMS 660: Completion of 30 credits of program coursework, including all core and specialization courses (except MGMT 670)\n",
      "ISAS 600: Basic micro-computer skills\n",
      "MGMT 650: Knowledge of the fundamentals of statistical meth-ods, techniques, and tools\n",
      "MGMT 670: Completion of 24 credits of program coursework, including all core courses\n",
      "SWEN 670: 30 credits of program coursework, including all core courses\n"
     ]
    }
   ],
   "source": [
    "# Check status\n",
    "for class_name, class_info in classes.items():\n",
    "    if class_info['done'] == 0:\n",
    "        print (class_name + ':', class_info['prerequisites'])"
   ]
  },
  {
   "cell_type": "code",
   "execution_count": 24,
   "id": "723aeaee-bb08-4d8c-bd76-91519fe7f561",
   "metadata": {},
   "outputs": [],
   "source": [
    "testmatch = language_pattern.search(classes['ARAB 112']['prerequisites'])"
   ]
  }
 ],
 "metadata": {
  "kernelspec": {
   "display_name": "Python 3 (ipykernel)",
   "language": "python",
   "name": "python3"
  },
  "language_info": {
   "codemirror_mode": {
    "name": "ipython",
    "version": 3
   },
   "file_extension": ".py",
   "mimetype": "text/x-python",
   "name": "python",
   "nbconvert_exporter": "python",
   "pygments_lexer": "ipython3",
   "version": "3.9.18"
  }
 },
 "nbformat": 4,
 "nbformat_minor": 5
}
