{
 "cells": [
  {
   "cell_type": "code",
   "execution_count": 1,
   "id": "c1cb13ca",
   "metadata": {},
   "outputs": [],
   "source": [
    "import backend.connection\n",
    "import backend.student\n",
    "import frontend.pages as pages\n",
    "import frontend.cards as cards\n",
    "import asyncio\n",
    "\n",
    "#client = backend.student.reset_student()\n",
    "#client['student_info']\n",
    "#client['student_data']\n",
    "\n",
    "conn = backend.connection.TimedSQLiteConnection('UMGC.db')\n",
    "#print(f'sqlite connection: {conn}')\n",
    "role = 'student'"
   ]
  },
  {
   "cell_type": "code",
   "execution_count": 2,
   "id": "b20048e2",
   "metadata": {},
   "outputs": [
    {
     "data": {
      "text/plain": [
       "{'user_id': 7,\n",
       " 'name': 'John Doe',\n",
       " 'financial_aid': 1,\n",
       " 'resident_status': 'In-State',\n",
       " 'student_profile': 'Full-time',\n",
       " 'transfer_credits': 0,\n",
       " 'app_stage': 'schedule created',\n",
       " 'app_stage_id': 5,\n",
       " 'first_term': 'Spring 2024',\n",
       " 'program_id': 5,\n",
       " 'degree_id': 3,\n",
       " 'degree_program': 'BS in Business Administration',\n",
       " 'menu': {'program': 5, 'degree': 2, 'area_of_study': 1},\n",
       " 'ge': {'arts': {'1': None, '2': None, 'nopre': False},\n",
       "  'beh': {'1': None, '2': None, 'nopre': False},\n",
       "  'bio': {'1a': None, '1b': None, '1c': None, '2': None, 'nopre': False},\n",
       "  'comm': {'1': 'WRTG 111',\n",
       "   '2': 'WRTG 112',\n",
       "   '3': None,\n",
       "   '4': None,\n",
       "   'nopre': False},\n",
       "  'math': {'1': None, 'nopre': False},\n",
       "  'res': {'1': None,\n",
       "   '2': 'LIBS 150',\n",
       "   '3': None,\n",
       "   '3a': None,\n",
       "   '3b': None,\n",
       "   '3c': None,\n",
       "   'nopre': False},\n",
       "  'total': {},\n",
       "  'summary': {}}}"
      ]
     },
     "execution_count": 2,
     "metadata": {},
     "output_type": "execute_result"
    }
   ],
   "source": [
    "user_id = 7 \n",
    "student_info = await backend.student.populate_student_info_dict(conn, user_id)\n",
    "student_info"
   ]
  },
  {
   "cell_type": "code",
   "execution_count": 12,
   "id": "f03dc9b0",
   "metadata": {},
   "outputs": [],
   "source": [
    "from backend.student import populate_student_data_dict\n",
    "\n",
    "student_data = await populate_student_data_dict(conn, student_info)"
   ]
  },
  {
   "cell_type": "code",
   "execution_count": 13,
   "id": "09d31405",
   "metadata": {},
   "outputs": [
    {
     "data": {
      "text/html": [
       "<div>\n",
       "<style scoped>\n",
       "    .dataframe tbody tr th:only-of-type {\n",
       "        vertical-align: middle;\n",
       "    }\n",
       "\n",
       "    .dataframe tbody tr th {\n",
       "        vertical-align: top;\n",
       "    }\n",
       "\n",
       "    .dataframe thead th {\n",
       "        text-align: right;\n",
       "    }\n",
       "</style>\n",
       "<table border=\"1\" class=\"dataframe\">\n",
       "  <thead>\n",
       "    <tr style=\"text-align: right;\">\n",
       "      <th></th>\n",
       "      <th>id</th>\n",
       "      <th>course</th>\n",
       "      <th>type</th>\n",
       "      <th>title</th>\n",
       "      <th>credits</th>\n",
       "      <th>pre</th>\n",
       "      <th>pre_credits</th>\n",
       "      <th>substitutions</th>\n",
       "      <th>description</th>\n",
       "    </tr>\n",
       "  </thead>\n",
       "  <tbody>\n",
       "    <tr>\n",
       "      <th>0</th>\n",
       "      <td>22</td>\n",
       "      <td>BMGT 110</td>\n",
       "      <td>Major</td>\n",
       "      <td>Introduction to Business and Management</td>\n",
       "      <td>3</td>\n",
       "      <td></td>\n",
       "      <td></td>\n",
       "      <td></td>\n",
       "      <td>(For students with little or no business backg...</td>\n",
       "    </tr>\n",
       "    <tr>\n",
       "      <th>1</th>\n",
       "      <td>23</td>\n",
       "      <td>ACCT 220</td>\n",
       "      <td>Major</td>\n",
       "      <td>Principles of Accounting I</td>\n",
       "      <td>3</td>\n",
       "      <td></td>\n",
       "      <td></td>\n",
       "      <td></td>\n",
       "      <td>An introduction to the basic theory and techni...</td>\n",
       "    </tr>\n",
       "    <tr>\n",
       "      <th>2</th>\n",
       "      <td>24</td>\n",
       "      <td>ACCT 221</td>\n",
       "      <td>Major</td>\n",
       "      <td>Principles of Accounting II</td>\n",
       "      <td>3</td>\n",
       "      <td>ACCT 220</td>\n",
       "      <td></td>\n",
       "      <td></td>\n",
       "      <td>Prerequisite: ACCT 220. Further study of conte...</td>\n",
       "    </tr>\n",
       "    <tr>\n",
       "      <th>3</th>\n",
       "      <td>25</td>\n",
       "      <td>BMGT 364</td>\n",
       "      <td>Major</td>\n",
       "      <td>Management and Organization Theory</td>\n",
       "      <td>3</td>\n",
       "      <td></td>\n",
       "      <td></td>\n",
       "      <td></td>\n",
       "      <td>Recommended: BMGT 110. An examination of the f...</td>\n",
       "    </tr>\n",
       "    <tr>\n",
       "      <th>4</th>\n",
       "      <td>26</td>\n",
       "      <td>BMGT 365</td>\n",
       "      <td>Major</td>\n",
       "      <td>Organizational Leadership</td>\n",
       "      <td>3</td>\n",
       "      <td>(BMGT 110 | BMGT 364)</td>\n",
       "      <td></td>\n",
       "      <td></td>\n",
       "      <td>Prerequisite: BMGT 110 or BMGT 364. An explora...</td>\n",
       "    </tr>\n",
       "    <tr>\n",
       "      <th>5</th>\n",
       "      <td>27</td>\n",
       "      <td>MRKT 310</td>\n",
       "      <td>Major</td>\n",
       "      <td>Marketing Principles</td>\n",
       "      <td>3</td>\n",
       "      <td></td>\n",
       "      <td></td>\n",
       "      <td></td>\n",
       "      <td>A foundational study of the marketing principl...</td>\n",
       "    </tr>\n",
       "    <tr>\n",
       "      <th>6</th>\n",
       "      <td>28</td>\n",
       "      <td>BMGT 380</td>\n",
       "      <td>Major</td>\n",
       "      <td>Business Law I</td>\n",
       "      <td>3</td>\n",
       "      <td></td>\n",
       "      <td></td>\n",
       "      <td></td>\n",
       "      <td>(Strongly recommended for students seeking car...</td>\n",
       "    </tr>\n",
       "    <tr>\n",
       "      <th>7</th>\n",
       "      <td>29</td>\n",
       "      <td>HRMN 300</td>\n",
       "      <td>Major</td>\n",
       "      <td>Human Resource Management</td>\n",
       "      <td>3</td>\n",
       "      <td></td>\n",
       "      <td></td>\n",
       "      <td></td>\n",
       "      <td>A basic study of the strategic role of human r...</td>\n",
       "    </tr>\n",
       "    <tr>\n",
       "      <th>8</th>\n",
       "      <td>30</td>\n",
       "      <td>FINC 330</td>\n",
       "      <td>Major</td>\n",
       "      <td>Business Finance</td>\n",
       "      <td>3</td>\n",
       "      <td>(ACCT 221 &amp; STAT 200)</td>\n",
       "      <td></td>\n",
       "      <td></td>\n",
       "      <td>Prerequisites: ACCT 221 and STAT 200. An overv...</td>\n",
       "    </tr>\n",
       "    <tr>\n",
       "      <th>9</th>\n",
       "      <td>31</td>\n",
       "      <td>BMGT 496</td>\n",
       "      <td>Major</td>\n",
       "      <td>Business Ethics</td>\n",
       "      <td>3</td>\n",
       "      <td></td>\n",
       "      <td></td>\n",
       "      <td></td>\n",
       "      <td>A study of the relationship of business ethics...</td>\n",
       "    </tr>\n",
       "    <tr>\n",
       "      <th>10</th>\n",
       "      <td>32</td>\n",
       "      <td>BMGT 495</td>\n",
       "      <td>Major</td>\n",
       "      <td>Strategic Management</td>\n",
       "      <td>3</td>\n",
       "      <td>(BMGT 364 &amp; BMGT 365 &amp; MRKT 310 (FINC 330 | BM...</td>\n",
       "      <td></td>\n",
       "      <td></td>\n",
       "      <td>(Access to spreadsheet, word processing, and p...</td>\n",
       "    </tr>\n",
       "    <tr>\n",
       "      <th>11</th>\n",
       "      <td>33</td>\n",
       "      <td>ECON 201</td>\n",
       "      <td>Required,General</td>\n",
       "      <td>Principles of Macroeconomics</td>\n",
       "      <td>3</td>\n",
       "      <td></td>\n",
       "      <td></td>\n",
       "      <td></td>\n",
       "      <td>An introductory study of the macroeconomy. The...</td>\n",
       "    </tr>\n",
       "    <tr>\n",
       "      <th>12</th>\n",
       "      <td>34</td>\n",
       "      <td>ECON 203</td>\n",
       "      <td>Required,General</td>\n",
       "      <td>Principles of Microeconomics</td>\n",
       "      <td>3</td>\n",
       "      <td></td>\n",
       "      <td></td>\n",
       "      <td></td>\n",
       "      <td>An analysis of the economic principles underly...</td>\n",
       "    </tr>\n",
       "    <tr>\n",
       "      <th>13</th>\n",
       "      <td>35</td>\n",
       "      <td>IFSM 300</td>\n",
       "      <td>Required,General</td>\n",
       "      <td>Information Systems in Organizations</td>\n",
       "      <td>3</td>\n",
       "      <td></td>\n",
       "      <td></td>\n",
       "      <td></td>\n",
       "      <td>An overview of information systems and how the...</td>\n",
       "    </tr>\n",
       "    <tr>\n",
       "      <th>14</th>\n",
       "      <td>36</td>\n",
       "      <td>STAT 200</td>\n",
       "      <td>Required,General</td>\n",
       "      <td>Introduction to Statistics</td>\n",
       "      <td>3</td>\n",
       "      <td></td>\n",
       "      <td></td>\n",
       "      <td></td>\n",
       "      <td>An introduction to statistics. The objective i...</td>\n",
       "    </tr>\n",
       "  </tbody>\n",
       "</table>\n",
       "</div>"
      ],
      "text/plain": [
       "    id    course              type                                    title  \\\n",
       "0   22  BMGT 110             Major  Introduction to Business and Management   \n",
       "1   23  ACCT 220             Major               Principles of Accounting I   \n",
       "2   24  ACCT 221             Major              Principles of Accounting II   \n",
       "3   25  BMGT 364             Major       Management and Organization Theory   \n",
       "4   26  BMGT 365             Major                Organizational Leadership   \n",
       "5   27  MRKT 310             Major                     Marketing Principles   \n",
       "6   28  BMGT 380             Major                           Business Law I   \n",
       "7   29  HRMN 300             Major                Human Resource Management   \n",
       "8   30  FINC 330             Major                         Business Finance   \n",
       "9   31  BMGT 496             Major                          Business Ethics   \n",
       "10  32  BMGT 495             Major                     Strategic Management   \n",
       "11  33  ECON 201  Required,General             Principles of Macroeconomics   \n",
       "12  34  ECON 203  Required,General             Principles of Microeconomics   \n",
       "13  35  IFSM 300  Required,General     Information Systems in Organizations   \n",
       "14  36  STAT 200  Required,General               Introduction to Statistics   \n",
       "\n",
       "   credits                                                pre pre_credits  \\\n",
       "0        3                                                                  \n",
       "1        3                                                                  \n",
       "2        3                                           ACCT 220               \n",
       "3        3                                                                  \n",
       "4        3                              (BMGT 110 | BMGT 364)               \n",
       "5        3                                                                  \n",
       "6        3                                                                  \n",
       "7        3                                                                  \n",
       "8        3                              (ACCT 221 & STAT 200)               \n",
       "9        3                                                                  \n",
       "10       3  (BMGT 364 & BMGT 365 & MRKT 310 (FINC 330 | BM...               \n",
       "11       3                                                                  \n",
       "12       3                                                                  \n",
       "13       3                                                                  \n",
       "14       3                                                                  \n",
       "\n",
       "   substitutions                                        description  \n",
       "0                 (For students with little or no business backg...  \n",
       "1                 An introduction to the basic theory and techni...  \n",
       "2                 Prerequisite: ACCT 220. Further study of conte...  \n",
       "3                 Recommended: BMGT 110. An examination of the f...  \n",
       "4                 Prerequisite: BMGT 110 or BMGT 364. An explora...  \n",
       "5                 A foundational study of the marketing principl...  \n",
       "6                 (Strongly recommended for students seeking car...  \n",
       "7                 A basic study of the strategic role of human r...  \n",
       "8                 Prerequisites: ACCT 221 and STAT 200. An overv...  \n",
       "9                 A study of the relationship of business ethics...  \n",
       "10                (Access to spreadsheet, word processing, and p...  \n",
       "11                An introductory study of the macroeconomy. The...  \n",
       "12                An analysis of the economic principles underly...  \n",
       "13                An overview of information systems and how the...  \n",
       "14                An introduction to statistics. The objective i...  "
      ]
     },
     "execution_count": 13,
     "metadata": {},
     "output_type": "execute_result"
    }
   ],
   "source": [
    "student_data['required']"
   ]
  },
  {
   "cell_type": "code",
   "execution_count": 3,
   "id": "c8369eec",
   "metadata": {},
   "outputs": [
    {
     "data": {
      "text/plain": [
       "'BS in Business Administration'"
      ]
     },
     "execution_count": 3,
     "metadata": {},
     "output_type": "execute_result"
    }
   ],
   "source": [
    "title = student_info['degree_program'] # program name\n",
    "title"
   ]
  },
  {
   "cell_type": "code",
   "execution_count": 4,
   "id": "36f9d4d7",
   "metadata": {},
   "outputs": [
    {
     "data": {
      "text/plain": [
       "5"
      ]
     },
     "execution_count": 4,
     "metadata": {},
     "output_type": "execute_result"
    }
   ],
   "source": [
    "student_info['program_id']"
   ]
  },
  {
   "cell_type": "code",
   "execution_count": 9,
   "id": "6cad92a6",
   "metadata": {},
   "outputs": [],
   "source": [
    "query = 'SELECT * FROM program_requirements WHERE program_id = ?'\n",
    "row = await conn.query_one(query, params=(student_info['program_id'],))\n"
   ]
  },
  {
   "cell_type": "code",
   "execution_count": 7,
   "id": "181c4f49",
   "metadata": {},
   "outputs": [
    {
     "name": "stdout",
     "output_type": "stream",
     "text": [
      "info: \n",
      "description: \n",
      "In the business administration major, you’ll gain a well-rounded education that provides foundational, workplace-relevant management skills, organizational theory, and operational knowledge.\n",
      "\n",
      "UMGC’s career-focused bachelor’s degree program in business administration is designed to help you compete for the jobs of today and tomorrow by building a comprehensive base of knowledge. This major will help you prepare for a variety of positions in for-profit, nonprofit, and public-sector organizations.\n"
     ]
    }
   ],
   "source": [
    "print(f\"info: {row['info']}\")\n",
    "print(f\"description: {row['description']}\")"
   ]
  },
  {
   "cell_type": "code",
   "execution_count": 8,
   "id": "a5a684d6",
   "metadata": {},
   "outputs": [
    {
     "name": "stdout",
     "output_type": "stream",
     "text": [
      "row is True\n"
     ]
    }
   ],
   "source": [
    "if row:\n",
    "    print('row is True')"
   ]
  },
  {
   "cell_type": "code",
   "execution_count": 10,
   "id": "25ccd268",
   "metadata": {},
   "outputs": [
    {
     "data": {
      "text/plain": [
       "{'user_id': None,\n",
       " 'name': None,\n",
       " 'financial_aid': None,\n",
       " 'resident_status': None,\n",
       " 'student_profile': None,\n",
       " 'transfer_credits': None,\n",
       " 'app_stage': None,\n",
       " 'app_stage_id': None,\n",
       " 'first_term': None,\n",
       " 'program_id': None,\n",
       " 'degree_id': None,\n",
       " 'degree_program': None,\n",
       " 'menu': {'degree': None, 'area_of_study': None, 'program': None},\n",
       " 'ge': {'arts': {'1': None, '2': None, 'nopre': False},\n",
       "  'beh': {'1': None, '2': None, 'nopre': False},\n",
       "  'bio': {'1a': None, '1b': None, '1c': None, '2': None, 'nopre': False},\n",
       "  'comm': {'1': 'WRTG 111',\n",
       "   '2': 'WRTG 112',\n",
       "   '3': None,\n",
       "   '4': None,\n",
       "   'nopre': False},\n",
       "  'math': {'1': None, 'nopre': False},\n",
       "  'res': {'1': None,\n",
       "   '2': 'LIBS 150',\n",
       "   '3': None,\n",
       "   '3a': None,\n",
       "   '3b': None,\n",
       "   '3c': None,\n",
       "   'nopre': False},\n",
       "  'total': {},\n",
       "  'summary': {}}}"
      ]
     },
     "execution_count": 10,
     "metadata": {},
     "output_type": "execute_result"
    }
   ],
   "source": [
    "client['student_info']"
   ]
  },
  {
   "cell_type": "code",
   "execution_count": null,
   "id": "1073ff1d",
   "metadata": {},
   "outputs": [],
   "source": [
    "def update_dict(original, update):\n",
    "    for key, value in update.items():\n",
    "        if value is not None:\n",
    "            original[key] = value\n",
    "    return original"
   ]
  },
  {
   "cell_type": "markdown",
   "id": "ba866ec3",
   "metadata": {},
   "source": [
    "## Testing functions for equivalency"
   ]
  },
  {
   "cell_type": "code",
   "execution_count": null,
   "id": "b01fb43b-603e-4fe5-86f8-b9fb2379f9d1",
   "metadata": {},
   "outputs": [],
   "source": [
    "def test_functions(func1, func2, *args, **kwargs):\n",
    "    \"\"\"\n",
    "    Test if two functions produce the same output given the same input.\n",
    "    \n",
    "    :param func1: First function to test\n",
    "    :param func2: Second function to test\n",
    "    :param args: Positional arguments to pass to both functions\n",
    "    :param kwargs: Keyword arguments to pass to both functions\n",
    "    :return: True if outputs are equal, False otherwise\n",
    "    \"\"\"\n",
    "    result1 = func1(*args, **kwargs)\n",
    "    result2 = func2(*args, **kwargs)\n",
    "    \n",
    "    if result1 == result2:\n",
    "        print(\"Functions produce the same output.\")\n",
    "        return True\n",
    "    else:\n",
    "        print(\"Functions produce different outputs.\")\n",
    "        print(f\"Output of func1: {result1}\")\n",
    "        print(f\"Output of func2: {result2}\")\n",
    "        return False\n"
   ]
  },
  {
   "cell_type": "code",
   "execution_count": null,
   "id": "a65d5432-b853-4740-8615-8eb467a5f0ff",
   "metadata": {},
   "outputs": [],
   "source": [
    "def initialize_student_info_ZZ():\n",
    "    \"\"\"\n",
    "    Initialize new student information within Wave.\n",
    "    (This is not the same as populating a student from the database)\n",
    "    \"\"\"\n",
    "    result = {\n",
    "        'user_id': None,\n",
    "        'name': None,\n",
    "        'financial_aid': None,\n",
    "        'resident_status': None,\n",
    "        'student_profile': None,\n",
    "        'transfer_credits': None,\n",
    "        'app_stage': None,\n",
    "        'app_stage_id': None,\n",
    "        'first_term': None,\n",
    "        'program_id': None,\n",
    "        'degree_id': None,\n",
    "        'degree_program': None,\n",
    "        'menu': {'degree': None, 'area_of_study': None, 'program': None},\n",
    "        'ge': {\n",
    "            'arts': {'1': None, '2': None, 'nopre': False},\n",
    "            'beh': {'1': None, '2': None, 'nopre': False},\n",
    "            'bio': {'1a': None, '1b': None, '1c': None, '2': None, 'nopre': False},\n",
    "            'comm': {'1': 'WRTG 111', '2': 'WRTG 112', '3': None, '4': None, 'nopre': False},\n",
    "            'math': {'1': None, 'nopre': False},\n",
    "            'res': {'1': None, '2': 'LIBS 150', '3': None, '3a': None, '3b': None, '3c': None, 'nopre': False},\n",
    "            'total': {},\n",
    "            'summary': {}\n",
    "        }\n",
    "    }\n",
    "    return result\n"
   ]
  },
  {
   "cell_type": "code",
   "execution_count": null,
   "id": "2d1a2668-93c7-4949-bc30-0c1e5d6ba775",
   "metadata": {},
   "outputs": [],
   "source": [
    "initialize_student_info_ZZ()"
   ]
  },
  {
   "cell_type": "code",
   "execution_count": null,
   "id": "b2ec9019-ad63-42bf-8c84-8e40ee23188f",
   "metadata": {},
   "outputs": [],
   "source": [
    "def initialize_student_data() -> dict:\n",
    "    '''\n",
    "    Initialize new student data\n",
    "    (This is not the same as populating from the database)\n",
    "    Moved this from student_info for ease in debugging student_info\n",
    "    '''\n",
    "    student_data = {}\n",
    "    # Initialize some attributes\n",
    "    attributes = [        \n",
    "        'user_id',\n",
    "        'required',\n",
    "        'periods',\n",
    "        'schedule'\n",
    "    ]\n",
    "    student_data.update({name: None for name in attributes})    \n",
    "    return student_data"
   ]
  },
  {
   "cell_type": "code",
   "execution_count": null,
   "id": "ef43f925-2f17-4ebb-a590-fd587a7143c4",
   "metadata": {},
   "outputs": [],
   "source": [
    "initialize_student_data()"
   ]
  },
  {
   "cell_type": "code",
   "execution_count": null,
   "id": "e3fd252d-9bc4-4770-931f-15254b00240c",
   "metadata": {},
   "outputs": [],
   "source": [
    "from backend import test_functions, initialize_ge, initialize_ge_old"
   ]
  },
  {
   "cell_type": "code",
   "execution_count": null,
   "id": "8a6d966c-b36a-4f26-a285-b5b307dc9a12",
   "metadata": {},
   "outputs": [],
   "source": [
    "test_functions(initialize_ge, initialize_ge_old)"
   ]
  },
  {
   "cell_type": "code",
   "execution_count": null,
   "id": "e31734b8-813c-41a6-a9cf-780c5e771cf9",
   "metadata": {},
   "outputs": [],
   "source": [
    "# test_result = test_functions(initialize_ge, initialize_ge_old)\n"
   ]
  },
  {
   "cell_type": "markdown",
   "id": "e27171dc-9c26-49f1-bf95-95008116188f",
   "metadata": {},
   "source": [
    "## Debug backend.get_choices"
   ]
  },
  {
   "cell_type": "code",
   "execution_count": 1,
   "id": "dc777980-fc49-4206-8b47-7fb695c3ea5c",
   "metadata": {},
   "outputs": [],
   "source": [
    "import asyncio\n",
    "\n",
    "from h2o_wave import main, app, Q, ui, on, run_on, data, Expando\n",
    "from typing import Optional, List\n",
    "import logging\n",
    "\n",
    "import pandas as pd\n",
    "import numpy as np\n",
    "\n",
    "import cards\n",
    "import utils\n",
    "import backend"
   ]
  },
  {
   "cell_type": "code",
   "execution_count": 2,
   "id": "67fbf529-01f7-4349-a4e5-150cdbde2120",
   "metadata": {},
   "outputs": [],
   "source": [
    "conn = backend.TimedSQLiteConnection('UMGC.db')\n",
    "timed_connection = conn"
   ]
  },
  {
   "cell_type": "code",
   "execution_count": 3,
   "id": "58dbc1d8-f3c8-4105-990f-a15495681506",
   "metadata": {},
   "outputs": [
    {
     "data": {
      "text/plain": [
       "<backend.TimedSQLiteConnection at 0x11192b610>"
      ]
     },
     "execution_count": 3,
     "metadata": {},
     "output_type": "execute_result"
    }
   ],
   "source": [
    "timed_connection"
   ]
  },
  {
   "cell_type": "code",
   "execution_count": 6,
   "id": "98e00fc9-0513-4a24-ae43-7106e40b0997",
   "metadata": {},
   "outputs": [],
   "source": [
    "query = 'select id as name, name as label from programs where degree_id=3'\n",
    "#degree_id = 3"
   ]
  },
  {
   "cell_type": "code",
   "execution_count": 7,
   "id": "6ee56f53-56ed-4687-bff7-6027a3a7c079",
   "metadata": {},
   "outputs": [
    {
     "data": {
      "text/plain": [
       "'select id as name, name as label from programs where degree_id=3'"
      ]
     },
     "execution_count": 7,
     "metadata": {},
     "output_type": "execute_result"
    }
   ],
   "source": [
    "query"
   ]
  },
  {
   "cell_type": "code",
   "execution_count": 9,
   "id": "e089ecda-a9ee-49c2-9f45-88d86823e010",
   "metadata": {},
   "outputs": [],
   "source": [
    "rows = await backend.get_query(timed_connection, query)"
   ]
  },
  {
   "cell_type": "code",
   "execution_count": 14,
   "id": "17ae6f80-39bb-4574-bc34-5f097ae2b1c8",
   "metadata": {},
   "outputs": [
    {
     "name": "stdout",
     "output_type": "stream",
     "text": [
      "2, Accounting\n",
      "3, Applied Technology\n",
      "4, Biotechnology\n",
      "5, Business Administration\n",
      "7, Computer Science\n",
      "8, Criminal Justice\n",
      "9, Cybersecurity Management and Policy\n",
      "10, Cybersecurity Technology\n",
      "11, Data Science\n",
      "14, Environmental Health and Safety\n",
      "15, Finance\n",
      "16, General Studies\n",
      "17, Gerontology and Aging Services\n",
      "19, Health Services Management\n",
      "21, Homeland Security\n",
      "22, Human Resource Management\n",
      "24, Laboratory Management\n",
      "25, Legal Studies\n",
      "26, Management Information Systems\n",
      "27, Management Studies\n",
      "28, Marketing\n",
      "30, Political Science\n",
      "31, Psychology\n",
      "32, Public Safety Administration\n",
      "33, Social Science\n",
      "34, Software Development and Security\n",
      "35, Web and Digital Design\n"
     ]
    }
   ],
   "source": [
    "for row in rows:\n",
    "    print(str(row['name']) + \", \" + row['label'])"
   ]
  },
  {
   "cell_type": "code",
   "execution_count": 16,
   "id": "9b96c8ba-56b1-47c0-af44-128fc8da0d54",
   "metadata": {},
   "outputs": [
    {
     "name": "stdout",
     "output_type": "stream",
     "text": [
      "[<h2o_wave.types.Choice object at 0x125d7a9e0>, <h2o_wave.types.Choice object at 0x125d7a0e0>, <h2o_wave.types.Choice object at 0x125d780d0>, <h2o_wave.types.Choice object at 0x125d7ba00>, <h2o_wave.types.Choice object at 0x125d7a230>, <h2o_wave.types.Choice object at 0x125d78eb0>, <h2o_wave.types.Choice object at 0x1119792a0>, <h2o_wave.types.Choice object at 0x111978490>, <h2o_wave.types.Choice object at 0x1119ea3b0>, <h2o_wave.types.Choice object at 0x1119ea0e0>, <h2o_wave.types.Choice object at 0x11192b280>, <h2o_wave.types.Choice object at 0x11192b370>, <h2o_wave.types.Choice object at 0x11192b220>, <h2o_wave.types.Choice object at 0x11192b1c0>, <h2o_wave.types.Choice object at 0x125de8460>, <h2o_wave.types.Choice object at 0x125deba30>, <h2o_wave.types.Choice object at 0x125de8af0>, <h2o_wave.types.Choice object at 0x125de9090>, <h2o_wave.types.Choice object at 0x125de8ac0>, <h2o_wave.types.Choice object at 0x125de9e40>, <h2o_wave.types.Choice object at 0x125de9a80>, <h2o_wave.types.Choice object at 0x125dea170>, <h2o_wave.types.Choice object at 0x125a13520>, <h2o_wave.types.Choice object at 0x125a13850>, <h2o_wave.types.Choice object at 0x125d1d690>, <h2o_wave.types.Choice object at 0x125d1edd0>, <h2o_wave.types.Choice object at 0x125d1efe0>]\n"
     ]
    }
   ],
   "source": [
    "choices = [ui.choice(name=str(row['name']), label=row['label']) for row in rows]\n",
    "print(choices)"
   ]
  },
  {
   "cell_type": "code",
   "execution_count": 8,
   "id": "69d5f23f-83c0-4bf9-919b-6f9e5c6e7d96",
   "metadata": {},
   "outputs": [
    {
     "data": {
      "text/plain": [
       "[<h2o_wave.types.Choice at 0x125a13d90>,\n",
       " <h2o_wave.types.Choice at 0x125a13d30>,\n",
       " <h2o_wave.types.Choice at 0x125a13cd0>,\n",
       " <h2o_wave.types.Choice at 0x125a13c70>,\n",
       " <h2o_wave.types.Choice at 0x125a13af0>,\n",
       " <h2o_wave.types.Choice at 0x125a13550>,\n",
       " <h2o_wave.types.Choice at 0x125a138b0>,\n",
       " <h2o_wave.types.Choice at 0x125a13a00>,\n",
       " <h2o_wave.types.Choice at 0x125a13910>,\n",
       " <h2o_wave.types.Choice at 0x125a139a0>,\n",
       " <h2o_wave.types.Choice at 0x125a139d0>,\n",
       " <h2o_wave.types.Choice at 0x125a13a90>,\n",
       " <h2o_wave.types.Choice at 0x125a13df0>,\n",
       " <h2o_wave.types.Choice at 0x125a13820>,\n",
       " <h2o_wave.types.Choice at 0x125a80040>,\n",
       " <h2o_wave.types.Choice at 0x125a800a0>,\n",
       " <h2o_wave.types.Choice at 0x125a80100>,\n",
       " <h2o_wave.types.Choice at 0x125a80160>,\n",
       " <h2o_wave.types.Choice at 0x125a801c0>,\n",
       " <h2o_wave.types.Choice at 0x125a80220>,\n",
       " <h2o_wave.types.Choice at 0x125a80280>,\n",
       " <h2o_wave.types.Choice at 0x125a802e0>,\n",
       " <h2o_wave.types.Choice at 0x125a80340>,\n",
       " <h2o_wave.types.Choice at 0x125a803a0>,\n",
       " <h2o_wave.types.Choice at 0x125a80400>,\n",
       " <h2o_wave.types.Choice at 0x125a80460>,\n",
       " <h2o_wave.types.Choice at 0x125a804c0>]"
      ]
     },
     "execution_count": 8,
     "metadata": {},
     "output_type": "execute_result"
    }
   ],
   "source": [
    "rows = await backend.get_choices(timed_connection, query)\n",
    "\n",
    "results"
   ]
  },
  {
   "cell_type": "code",
   "execution_count": null,
   "id": "25f7db0a-2231-4e13-83af-3e2247d201fa",
   "metadata": {},
   "outputs": [],
   "source": []
  }
 ],
 "metadata": {
  "kernelspec": {
   "display_name": "Python 3 (ipykernel)",
   "language": "python",
   "name": "python3"
  },
  "language_info": {
   "codemirror_mode": {
    "name": "ipython",
    "version": 3
   },
   "file_extension": ".py",
   "mimetype": "text/x-python",
   "name": "python",
   "nbconvert_exporter": "python",
   "pygments_lexer": "ipython3",
   "version": "3.10.14"
  }
 },
 "nbformat": 4,
 "nbformat_minor": 5
}
