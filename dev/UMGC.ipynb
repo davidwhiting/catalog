{
 "cells": [
  {
   "cell_type": "markdown",
   "id": "91b6b7ac-5d37-4442-b245-6ede0584aae5",
   "metadata": {},
   "source": [
    "# Updated Code"
   ]
  },
  {
   "cell_type": "code",
   "execution_count": 146,
   "id": "4c9559eb-7d77-4441-9a69-b0a436d14e37",
   "metadata": {},
   "outputs": [],
   "source": [
    "def find_prerequisites(course_code, classes):\n",
    "    def recursive_helper(course_code, classes):\n",
    "        # Check if the course has prerequisites\n",
    "        if 'prerequisites' in classes[course_code]:\n",
    "            # Get the raw string of prerequisites for the current course\n",
    "            prerequisites_str = classes[course_code]['prerequisites']\n",
    "\n",
    "            # Check if prerequisites are not empty\n",
    "            if prerequisites_str.strip() != '':\n",
    "                # Split the raw string into individual prerequisites\n",
    "                prerequisites_list = [prerequisite.strip() for prerequisite in prerequisites_str.split('or')]\n",
    "\n",
    "                # Initialize the list to store the current branch of prerequisites\n",
    "                current_branch = []\n",
    "\n",
    "                # Process each prerequisite separately\n",
    "                for prerequisite in prerequisites_list:\n",
    "                    # Recursively find prerequisites for each prerequisite and add to the current branch\n",
    "                    current_branch.extend(recursive_helper(prerequisite, classes))\n",
    "\n",
    "                return current_branch\n",
    "\n",
    "        # If the course has no prerequisites or empty prerequisites, return an empty list\n",
    "        return []\n",
    "\n",
    "    # Call the recursive helper function to get the overall list of courses\n",
    "    return recursive_helper(course_code, classes)"
   ]
  },
  {
   "cell_type": "code",
   "execution_count": 147,
   "id": "45df323a-d0e2-4ace-8026-f63857f73275",
   "metadata": {},
   "outputs": [],
   "source": [
    "# Example usage:\n",
    "classes = {\n",
    "    'STAT 400': {'prerequisites': 'MATH 141'},\n",
    "    'MATH 141': {'prerequisites': 'MATH 140'},\n",
    "    'MATH 140': {'prerequisites': 'MATH 108 or MATH 115'},\n",
    "    'MATH 108': {'prerequisites': 'MATH 107'},\n",
    "    'MATH 107': {'prerequisites': ''},\n",
    "    'MATH 115': {'prerequisites': 'STAT 101 or MATH 100'},\n",
    "    'STAT 101': {'prerequisites': ''},\n",
    "    'MATH 100': {'prerequisites': ''}\n",
    "}"
   ]
  },
  {
   "cell_type": "code",
   "execution_count": 148,
   "id": "362bfad5-cc73-485e-9515-9b71801b929b",
   "metadata": {},
   "outputs": [],
   "source": [
    "course_code = 'STAT 400'\n",
    "prerequisites = find_prerequisites(course_code, classes)"
   ]
  },
  {
   "cell_type": "code",
   "execution_count": 149,
   "id": "f18d7ee0-4678-4ea5-abad-755c3bd7c81f",
   "metadata": {},
   "outputs": [
    {
     "name": "stdout",
     "output_type": "stream",
     "text": [
      "Prerequisites for STAT 400: []\n"
     ]
    }
   ],
   "source": [
    "print(f\"Prerequisites for {course_code}: {prerequisites}\")"
   ]
  },
  {
   "cell_type": "code",
   "execution_count": 144,
   "id": "d007f36b-0bdb-488b-a4eb-04110b76abc7",
   "metadata": {},
   "outputs": [],
   "source": [
    "# Example usage:\n",
    "classes = {\n",
    "    'STAT 400': {'prerequisites': 'MATH 141'},\n",
    "    'MATH 141': {'prerequisites': 'MATH 140'},\n",
    "    'MATH 140': {'prerequisites': 'MATH 108 or MATH 115'},\n",
    "    'MATH 108': {'prerequisites': 'MATH 107'},\n",
    "    'MATH 107': {'prerequisites': ''},\n",
    "    'MATH 115': {'prerequisites': 'STAT 101 or MATH 100'},\n",
    "    'STAT 101': {'prerequisites': ''},\n",
    "    'MATH 100': {'prerequisites': ''}\n",
    "}"
   ]
  },
  {
   "cell_type": "code",
   "execution_count": 145,
   "id": "b3419cd6-813e-4670-9661-841d499272e8",
   "metadata": {},
   "outputs": [
    {
     "ename": "KeyError",
     "evalue": "''",
     "output_type": "error",
     "traceback": [
      "\u001b[0;31m---------------------------------------------------------------------------\u001b[0m",
      "\u001b[0;31mKeyError\u001b[0m                                  Traceback (most recent call last)",
      "Cell \u001b[0;32mIn[145], line 2\u001b[0m\n\u001b[1;32m      1\u001b[0m course_code \u001b[38;5;241m=\u001b[39m \u001b[38;5;124m'\u001b[39m\u001b[38;5;124mSTAT 400\u001b[39m\u001b[38;5;124m'\u001b[39m\n\u001b[0;32m----> 2\u001b[0m prerequisites \u001b[38;5;241m=\u001b[39m \u001b[43mfind_prerequisites\u001b[49m\u001b[43m(\u001b[49m\u001b[43mcourse_code\u001b[49m\u001b[43m,\u001b[49m\u001b[43m \u001b[49m\u001b[43mclasses\u001b[49m\u001b[43m)\u001b[49m\n",
      "Cell \u001b[0;32mIn[143], line 25\u001b[0m, in \u001b[0;36mfind_prerequisites\u001b[0;34m(course_code, classes)\u001b[0m\n\u001b[1;32m     22\u001b[0m     \u001b[38;5;28;01mreturn\u001b[39;00m [course_code]\n\u001b[1;32m     24\u001b[0m \u001b[38;5;66;03m# Call the recursive helper function to get the overall list of courses\u001b[39;00m\n\u001b[0;32m---> 25\u001b[0m \u001b[38;5;28;01mreturn\u001b[39;00m \u001b[43mrecursive_helper\u001b[49m\u001b[43m(\u001b[49m\u001b[43mcourse_code\u001b[49m\u001b[43m,\u001b[49m\u001b[43m \u001b[49m\u001b[43mclasses\u001b[49m\u001b[43m)\u001b[49m\n",
      "Cell \u001b[0;32mIn[143], line 17\u001b[0m, in \u001b[0;36mfind_prerequisites.<locals>.recursive_helper\u001b[0;34m(course_code, classes)\u001b[0m\n\u001b[1;32m     14\u001b[0m     \u001b[38;5;66;03m# Process each prerequisite separately\u001b[39;00m\n\u001b[1;32m     15\u001b[0m     \u001b[38;5;28;01mfor\u001b[39;00m prerequisite \u001b[38;5;129;01min\u001b[39;00m prerequisites_list:\n\u001b[1;32m     16\u001b[0m         \u001b[38;5;66;03m# Recursively find prerequisites for each prerequisite and add to the current branch\u001b[39;00m\n\u001b[0;32m---> 17\u001b[0m         current_branch\u001b[38;5;241m.\u001b[39mextend(\u001b[43mrecursive_helper\u001b[49m\u001b[43m(\u001b[49m\u001b[43mprerequisite\u001b[49m\u001b[43m,\u001b[49m\u001b[43m \u001b[49m\u001b[43mclasses\u001b[49m\u001b[43m)\u001b[49m)\n\u001b[1;32m     19\u001b[0m     \u001b[38;5;28;01mreturn\u001b[39;00m current_branch\n\u001b[1;32m     21\u001b[0m \u001b[38;5;66;03m# If the course has no prerequisites, return it as a single-item list\u001b[39;00m\n",
      "Cell \u001b[0;32mIn[143], line 17\u001b[0m, in \u001b[0;36mfind_prerequisites.<locals>.recursive_helper\u001b[0;34m(course_code, classes)\u001b[0m\n\u001b[1;32m     14\u001b[0m     \u001b[38;5;66;03m# Process each prerequisite separately\u001b[39;00m\n\u001b[1;32m     15\u001b[0m     \u001b[38;5;28;01mfor\u001b[39;00m prerequisite \u001b[38;5;129;01min\u001b[39;00m prerequisites_list:\n\u001b[1;32m     16\u001b[0m         \u001b[38;5;66;03m# Recursively find prerequisites for each prerequisite and add to the current branch\u001b[39;00m\n\u001b[0;32m---> 17\u001b[0m         current_branch\u001b[38;5;241m.\u001b[39mextend(\u001b[43mrecursive_helper\u001b[49m\u001b[43m(\u001b[49m\u001b[43mprerequisite\u001b[49m\u001b[43m,\u001b[49m\u001b[43m \u001b[49m\u001b[43mclasses\u001b[49m\u001b[43m)\u001b[49m)\n\u001b[1;32m     19\u001b[0m     \u001b[38;5;28;01mreturn\u001b[39;00m current_branch\n\u001b[1;32m     21\u001b[0m \u001b[38;5;66;03m# If the course has no prerequisites, return it as a single-item list\u001b[39;00m\n",
      "    \u001b[0;31m[... skipping similar frames: find_prerequisites.<locals>.recursive_helper at line 17 (2 times)]\u001b[0m\n",
      "Cell \u001b[0;32mIn[143], line 17\u001b[0m, in \u001b[0;36mfind_prerequisites.<locals>.recursive_helper\u001b[0;34m(course_code, classes)\u001b[0m\n\u001b[1;32m     14\u001b[0m     \u001b[38;5;66;03m# Process each prerequisite separately\u001b[39;00m\n\u001b[1;32m     15\u001b[0m     \u001b[38;5;28;01mfor\u001b[39;00m prerequisite \u001b[38;5;129;01min\u001b[39;00m prerequisites_list:\n\u001b[1;32m     16\u001b[0m         \u001b[38;5;66;03m# Recursively find prerequisites for each prerequisite and add to the current branch\u001b[39;00m\n\u001b[0;32m---> 17\u001b[0m         current_branch\u001b[38;5;241m.\u001b[39mextend(\u001b[43mrecursive_helper\u001b[49m\u001b[43m(\u001b[49m\u001b[43mprerequisite\u001b[49m\u001b[43m,\u001b[49m\u001b[43m \u001b[49m\u001b[43mclasses\u001b[49m\u001b[43m)\u001b[49m)\n\u001b[1;32m     19\u001b[0m     \u001b[38;5;28;01mreturn\u001b[39;00m current_branch\n\u001b[1;32m     21\u001b[0m \u001b[38;5;66;03m# If the course has no prerequisites, return it as a single-item list\u001b[39;00m\n",
      "Cell \u001b[0;32mIn[143], line 4\u001b[0m, in \u001b[0;36mfind_prerequisites.<locals>.recursive_helper\u001b[0;34m(course_code, classes)\u001b[0m\n\u001b[1;32m      2\u001b[0m \u001b[38;5;28;01mdef\u001b[39;00m \u001b[38;5;21mrecursive_helper\u001b[39m(course_code, classes):\n\u001b[1;32m      3\u001b[0m     \u001b[38;5;66;03m# Check if the course has prerequisites\u001b[39;00m\n\u001b[0;32m----> 4\u001b[0m     \u001b[38;5;28;01mif\u001b[39;00m \u001b[38;5;124m'\u001b[39m\u001b[38;5;124mprerequisites\u001b[39m\u001b[38;5;124m'\u001b[39m \u001b[38;5;129;01min\u001b[39;00m \u001b[43mclasses\u001b[49m\u001b[43m[\u001b[49m\u001b[43mcourse_code\u001b[49m\u001b[43m]\u001b[49m:\n\u001b[1;32m      5\u001b[0m         \u001b[38;5;66;03m# Get the raw string of prerequisites for the current course\u001b[39;00m\n\u001b[1;32m      6\u001b[0m         prerequisites_str \u001b[38;5;241m=\u001b[39m classes[course_code][\u001b[38;5;124m'\u001b[39m\u001b[38;5;124mprerequisites\u001b[39m\u001b[38;5;124m'\u001b[39m]\n\u001b[1;32m      8\u001b[0m         \u001b[38;5;66;03m# Split the raw string into individual prerequisites\u001b[39;00m\n",
      "\u001b[0;31mKeyError\u001b[0m: ''"
     ]
    }
   ],
   "source": [
    "course_code = 'STAT 400'\n",
    "prerequisites = find_prerequisites(course_code, classes)"
   ]
  },
  {
   "cell_type": "code",
   "execution_count": null,
   "id": "02909808-0028-44a6-a91f-84c5efa2d838",
   "metadata": {},
   "outputs": [],
   "source": [
    "print(f\"Prerequisites for {course_code}: {prerequisites}\")"
   ]
  },
  {
   "cell_type": "code",
   "execution_count": 50,
   "id": "5d445b4b-be8f-4e5a-a09c-a9555dfa6937",
   "metadata": {},
   "outputs": [],
   "source": [
    "def find_prerequisites(course_name, classes):\n",
    "    # Check if the course has prerequisites \n",
    "    if 'prerequisites' in classes[course_name]:\n",
    "        if classes[course_name] == '':\n",
    "            # If prerequisites are empty, return nothing\n",
    "            return ''\n",
    "        else:\n",
    "            # Get the raw string of prerequisites for the current course\n",
    "            prerequisites_str = classes[course_name]['prerequisites']\n",
    "\n",
    "            # Split the raw string into individual prerequisites\n",
    "            prerequisites_list = [prerequisite.strip() for prerequisite in prerequisites_str.split('or')]\n",
    "\n",
    "            # Initialize the list to store the complete set of prerequisites\n",
    "            all_prerequisites = []\n",
    "\n",
    "            # Process each branch separately\n",
    "            for prerequisite in prerequisites_list:\n",
    "                # Recursively find prerequisites for each branch\n",
    "                branch_prerequisites = find_prerequisites(prerequisite, classes)\n",
    "                # Add the current branch to the overall list\n",
    "                all_prerequisites.append(branch_prerequisites)\n",
    "\n",
    "            return all_prerequisites\n",
    "    else:\n",
    "        # If the course has no prerequisites, return an empty list\n",
    "        return []"
   ]
  },
  {
   "cell_type": "code",
   "execution_count": 51,
   "id": "7a432224-f728-4e9d-b64f-9556461ed3a1",
   "metadata": {},
   "outputs": [
    {
     "ename": "KeyError",
     "evalue": "''",
     "output_type": "error",
     "traceback": [
      "\u001b[0;31m---------------------------------------------------------------------------\u001b[0m",
      "\u001b[0;31mKeyError\u001b[0m                                  Traceback (most recent call last)",
      "Cell \u001b[0;32mIn[51], line 1\u001b[0m\n\u001b[0;32m----> 1\u001b[0m \u001b[43mfind_prerequisites\u001b[49m\u001b[43m(\u001b[49m\u001b[38;5;124;43m'\u001b[39;49m\u001b[38;5;124;43mSTAT 400\u001b[39;49m\u001b[38;5;124;43m'\u001b[39;49m\u001b[43m,\u001b[49m\u001b[43m \u001b[49m\u001b[43mclasses\u001b[49m\u001b[43m)\u001b[49m\n",
      "Cell \u001b[0;32mIn[50], line 20\u001b[0m, in \u001b[0;36mfind_prerequisites\u001b[0;34m(course_name, classes)\u001b[0m\n\u001b[1;32m     17\u001b[0m \u001b[38;5;66;03m# Process each branch separately\u001b[39;00m\n\u001b[1;32m     18\u001b[0m \u001b[38;5;28;01mfor\u001b[39;00m prerequisite \u001b[38;5;129;01min\u001b[39;00m prerequisites_list:\n\u001b[1;32m     19\u001b[0m     \u001b[38;5;66;03m# Recursively find prerequisites for each branch\u001b[39;00m\n\u001b[0;32m---> 20\u001b[0m     branch_prerequisites \u001b[38;5;241m=\u001b[39m \u001b[43mfind_prerequisites\u001b[49m\u001b[43m(\u001b[49m\u001b[43mprerequisite\u001b[49m\u001b[43m,\u001b[49m\u001b[43m \u001b[49m\u001b[43mclasses\u001b[49m\u001b[43m)\u001b[49m\n\u001b[1;32m     21\u001b[0m     \u001b[38;5;66;03m# Add the current branch to the overall list\u001b[39;00m\n\u001b[1;32m     22\u001b[0m     all_prerequisites\u001b[38;5;241m.\u001b[39mappend(branch_prerequisites)\n",
      "Cell \u001b[0;32mIn[50], line 20\u001b[0m, in \u001b[0;36mfind_prerequisites\u001b[0;34m(course_name, classes)\u001b[0m\n\u001b[1;32m     17\u001b[0m \u001b[38;5;66;03m# Process each branch separately\u001b[39;00m\n\u001b[1;32m     18\u001b[0m \u001b[38;5;28;01mfor\u001b[39;00m prerequisite \u001b[38;5;129;01min\u001b[39;00m prerequisites_list:\n\u001b[1;32m     19\u001b[0m     \u001b[38;5;66;03m# Recursively find prerequisites for each branch\u001b[39;00m\n\u001b[0;32m---> 20\u001b[0m     branch_prerequisites \u001b[38;5;241m=\u001b[39m \u001b[43mfind_prerequisites\u001b[49m\u001b[43m(\u001b[49m\u001b[43mprerequisite\u001b[49m\u001b[43m,\u001b[49m\u001b[43m \u001b[49m\u001b[43mclasses\u001b[49m\u001b[43m)\u001b[49m\n\u001b[1;32m     21\u001b[0m     \u001b[38;5;66;03m# Add the current branch to the overall list\u001b[39;00m\n\u001b[1;32m     22\u001b[0m     all_prerequisites\u001b[38;5;241m.\u001b[39mappend(branch_prerequisites)\n",
      "    \u001b[0;31m[... skipping similar frames: find_prerequisites at line 20 (2 times)]\u001b[0m\n",
      "Cell \u001b[0;32mIn[50], line 20\u001b[0m, in \u001b[0;36mfind_prerequisites\u001b[0;34m(course_name, classes)\u001b[0m\n\u001b[1;32m     17\u001b[0m \u001b[38;5;66;03m# Process each branch separately\u001b[39;00m\n\u001b[1;32m     18\u001b[0m \u001b[38;5;28;01mfor\u001b[39;00m prerequisite \u001b[38;5;129;01min\u001b[39;00m prerequisites_list:\n\u001b[1;32m     19\u001b[0m     \u001b[38;5;66;03m# Recursively find prerequisites for each branch\u001b[39;00m\n\u001b[0;32m---> 20\u001b[0m     branch_prerequisites \u001b[38;5;241m=\u001b[39m \u001b[43mfind_prerequisites\u001b[49m\u001b[43m(\u001b[49m\u001b[43mprerequisite\u001b[49m\u001b[43m,\u001b[49m\u001b[43m \u001b[49m\u001b[43mclasses\u001b[49m\u001b[43m)\u001b[49m\n\u001b[1;32m     21\u001b[0m     \u001b[38;5;66;03m# Add the current branch to the overall list\u001b[39;00m\n\u001b[1;32m     22\u001b[0m     all_prerequisites\u001b[38;5;241m.\u001b[39mappend(branch_prerequisites)\n",
      "Cell \u001b[0;32mIn[50], line 3\u001b[0m, in \u001b[0;36mfind_prerequisites\u001b[0;34m(course_name, classes)\u001b[0m\n\u001b[1;32m      1\u001b[0m \u001b[38;5;28;01mdef\u001b[39;00m \u001b[38;5;21mfind_prerequisites\u001b[39m(course_name, classes):\n\u001b[1;32m      2\u001b[0m     \u001b[38;5;66;03m# Check if the course has prerequisites \u001b[39;00m\n\u001b[0;32m----> 3\u001b[0m     \u001b[38;5;28;01mif\u001b[39;00m \u001b[38;5;124m'\u001b[39m\u001b[38;5;124mprerequisites\u001b[39m\u001b[38;5;124m'\u001b[39m \u001b[38;5;129;01min\u001b[39;00m \u001b[43mclasses\u001b[49m\u001b[43m[\u001b[49m\u001b[43mcourse_name\u001b[49m\u001b[43m]\u001b[49m:\n\u001b[1;32m      4\u001b[0m         \u001b[38;5;28;01mif\u001b[39;00m classes[course_name] \u001b[38;5;241m==\u001b[39m \u001b[38;5;124m'\u001b[39m\u001b[38;5;124m'\u001b[39m:\n\u001b[1;32m      5\u001b[0m             \u001b[38;5;66;03m# If prerequisites are empty, return nothing\u001b[39;00m\n\u001b[1;32m      6\u001b[0m             \u001b[38;5;28;01mreturn\u001b[39;00m \u001b[38;5;124m'\u001b[39m\u001b[38;5;124m'\u001b[39m\n",
      "\u001b[0;31mKeyError\u001b[0m: ''"
     ]
    }
   ],
   "source": [
    "find_prerequisites('STAT 400', classes)"
   ]
  },
  {
   "cell_type": "code",
   "execution_count": null,
   "id": "ceff00b2-5897-4d59-b482-16bd9b6e9aba",
   "metadata": {},
   "outputs": [],
   "source": [
    "# Example usage:\n",
    "classes = {\n",
    "    'STAT 400': {'prerequisites': 'MATH 141'},\n",
    "    'MATH 141': {'prerequisites': 'MATH 140'},\n",
    "    'MATH 140': {'prerequisites': 'MATH 108 or MATH 115'},\n",
    "    'MATH 108': {'prerequisites': 'MATH 107'},\n",
    "    'MATH 107': {'prerequisites': ''},\n",
    "    'MATH 115': {'prerequisites': ''}\n",
    "}\n",
    "\n",
    "course_code = 'STAT 400'\n",
    "prerequisites = find_prerequisites(course_code, classes)\n",
    "\n",
    "print(f\"Prerequisites for {course_code}: {prerequisites}\")"
   ]
  }
 ],
 "metadata": {
  "kernelspec": {
   "display_name": "Python 3 (ipykernel)",
   "language": "python",
   "name": "python3"
  },
  "language_info": {
   "codemirror_mode": {
    "name": "ipython",
    "version": 3
   },
   "file_extension": ".py",
   "mimetype": "text/x-python",
   "name": "python",
   "nbconvert_exporter": "python",
   "pygments_lexer": "ipython3",
   "version": "3.10.12"
  }
 },
 "nbformat": 4,
 "nbformat_minor": 5
}
