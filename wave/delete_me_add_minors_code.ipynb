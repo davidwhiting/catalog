{
 "cells": [
  {
   "attachments": {},
   "cell_type": "markdown",
   "id": "0a36cd73-8feb-47d7-80d7-2ccf6cd516a3",
   "metadata": {},
   "source": [
    "# UMGC Catalog\n",
    "## Step 4: Load additional data into UMGC.db"
   ]
  },
  {
   "cell_type": "code",
   "execution_count": 1,
   "id": "2caa5626-d8cf-47fc-9098-87b5cd1e9a4c",
   "metadata": {},
   "outputs": [],
   "source": [
    "import sqlite3\n",
    "conn = sqlite3.connect('UMGC.db')\n",
    "c = conn.cursor()\n",
    "\n",
    "def drop_table(table, db=c):\n",
    "    db.execute('DROP TABLE IF EXISTS ' + table)\n",
    "\n",
    "def drop_view(table, db=c):\n",
    "    db.execute('DROP VIEW IF EXISTS ' + table)\n",
    "\n",
    "def column_exists(table_name, column_name, db=c):\n",
    "    # Get the info of all columns of the table\n",
    "    db.execute(f\"PRAGMA table_info({table_name})\")\n",
    "    columns = db.fetchall()\n",
    "\n",
    "    # Check if the column exists in the table\n",
    "    for column in columns:\n",
    "        if column[1] == column_name:\n",
    "            return True\n",
    "\n",
    "    return False"
   ]
  },
  {
   "cell_type": "markdown",
   "id": "24c7b0e5",
   "metadata": {},
   "source": [
    "### Add Major, Minor, and Certification descriptions to database"
   ]
  }
 ],
 "metadata": {
  "kernelspec": {
   "display_name": "Python 3 (ipykernel)",
   "language": "python",
   "name": "python3"
  },
  "language_info": {
   "codemirror_mode": {
    "name": "ipython",
    "version": 3
   },
   "file_extension": ".py",
   "mimetype": "text/x-python",
   "name": "python",
   "nbconvert_exporter": "python",
   "pygments_lexer": "ipython3",
   "version": "3.10.12"
  }
 },
 "nbformat": 4,
 "nbformat_minor": 5
}
