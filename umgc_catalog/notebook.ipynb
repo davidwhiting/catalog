{
 "cells": [
  {
   "cell_type": "code",
   "execution_count": 1,
   "id": "1d9f035d-bf6d-4fab-bc5a-e92f5a7ade5f",
   "metadata": {},
   "outputs": [],
   "source": [
    "import sqlite3\n",
    "import pandas as pd\n",
    "import numpy as np\n",
    "\n",
    "import utils\n",
    "from utils import TimedSQLiteConnection, get_query, get_query_one, get_query_dict, \\\n",
    "get_query_course_dict, get_query_df\n",
    "\n",
    "conn = TimedSQLiteConnection('UMGC.db')\n",
    "timedConnection = conn # so I can test function code directly"
   ]
  },
  {
   "cell_type": "code",
   "execution_count": 10,
   "id": "0bc60adb",
   "metadata": {},
   "outputs": [],
   "source": [
    "import re\n",
    "\n",
    "def tokenize(expression):\n",
    "    import re\n",
    "\n",
    "    # Define the token pattern, accommodating course names\n",
    "    token_pattern = r'\\s*(\\(|\\)|\\&|\\||[A-Z]+\\s+\\d{3})\\s*'\n",
    "    tokens = re.findall(token_pattern, expression)\n",
    "    return [token for token in tokens if token]\n",
    "\n",
    "def parse(tokens):\n",
    "    def _parse_expression(index):\n",
    "        if tokens[index] == '(':\n",
    "            sub_expressions = []\n",
    "            index += 1\n",
    "            while tokens[index] != ')':\n",
    "                if tokens[index] in ('&', '|'):\n",
    "                    operator = tokens[index]\n",
    "                    index += 1\n",
    "                else:\n",
    "                    operand, index = _parse_expression(index)\n",
    "                    sub_expressions.append(operand)\n",
    "            index += 1\n",
    "            if operator == '&':\n",
    "                return ['and'] + sub_expressions, index\n",
    "            elif operator == '|':\n",
    "                return ['or'] + sub_expressions, index\n",
    "        elif re.match(r'[A-Z]+\\s+\\d{3}', tokens[index]):\n",
    "            return ['match', tokens[index]], index + 1\n",
    "    \n",
    "    expression_tree, _ = _parse_expression(0)\n",
    "    return expression_tree\n",
    "\n",
    "def parse_boolean_expression(expression):\n",
    "    tokens = tokenize(expression)\n",
    "    parsed_expression = parse(tokens)\n",
    "    return parsed_expression\n",
    "\n",
    "# Define your match function\n",
    "def match(course):\n",
    "    # Your logic to determine if the course matches\n",
    "    # For this example, let's say it returns True if the course ends with '115'\n",
    "    return course.endswith('115')\n",
    "\n",
    "# Function to evaluate the parsed expression\n",
    "def evaluate_expression_old(expression):\n",
    "    if isinstance(expression, list):\n",
    "        operator = expression[0]\n",
    "        operands = expression[1:]\n",
    "        \n",
    "        if operator == 'and':\n",
    "            return all(evaluate_expression(operand) for operand in operands)\n",
    "        elif operator == 'or':\n",
    "            return any(evaluate_expression(operand) for operand in operands)\n",
    "    elif expression[0] == 'match':\n",
    "        return match(expression[1])\n",
    "    else:\n",
    "        raise ValueError(\"Invalid expression\")\n",
    "    \n",
    "# Function to evaluate the parsed expression and save intermediate results\n",
    "def evaluate_expression_old(expression):\n",
    "    intermediate_results = []  # List to store intermediate results\n",
    "    \n",
    "    def evaluate(expression):\n",
    "        if isinstance(expression, list):\n",
    "            operator = expression[0]\n",
    "            operands = expression[1:]\n",
    "            \n",
    "            if operator == 'and':\n",
    "                result = all(evaluate(operand) for operand in operands)\n",
    "            elif operator == 'or':\n",
    "                result = any(evaluate(operand) for operand in operands)\n",
    "            \n",
    "            intermediate_results.append((operator, result))  # Save intermediate result\n",
    "            return result\n",
    "        elif expression[0] == 'match':\n",
    "            result = match(expression[1])\n",
    "            intermediate_results.append(('match', result))  # Save intermediate result\n",
    "            return result\n",
    "        else:\n",
    "            raise ValueError(\"Invalid expression\")\n",
    "\n",
    "    final_result = evaluate(expression)\n",
    "    return final_result, intermediate_results\n",
    "\n",
    "def evaluate_expression(expression):\n",
    "    intermediate_results = []  # List to store intermediate results\n",
    "    \n",
    "    def evaluate(expression):\n",
    "        nonlocal intermediate_results  # Declare intermediate_results as nonlocal\n",
    "        \n",
    "        if isinstance(expression, list):\n",
    "            operator = expression[0]\n",
    "            operands = expression[1:]\n",
    "            \n",
    "            if operator == 'and':\n",
    "                result = all(evaluate(operand) for operand in operands)\n",
    "            elif operator == 'or':\n",
    "                result = any(evaluate(operand) for operand in operands)\n",
    "            \n",
    "            intermediate_results.append((operator, result))  # Save intermediate result\n",
    "            return result\n",
    "        elif expression[0] == 'match':\n",
    "            result = match(expression[1])\n",
    "            intermediate_results.append(('match', result))  # Save intermediate result\n",
    "            return result\n",
    "        else:\n",
    "            raise ValueError(\"Invalid expression\")\n",
    "\n",
    "    final_result = evaluate(expression)\n",
    "    return final_result, intermediate_results\n"
   ]
  },
  {
   "cell_type": "code",
   "execution_count": null,
   "id": "247065e8",
   "metadata": {},
   "outputs": [],
   "source": [
    "# Semester data\n",
    "semester_data = []\n",
    "seasons = ['SPRING', 'SUMMER', 'FALL']\n",
    "for year in range(2024, 2041):\n",
    "    for season in seasons:\n",
    "        semester_data.append(f\"{season} {year}\")\n"
   ]
  },
  {
   "cell_type": "code",
   "execution_count": null,
   "id": "cefeb0c5",
   "metadata": {},
   "outputs": [],
   "source": [
    "# Assign bins function\n",
    "def assign_bins(max_credits, data):\n",
    "    bin_credits = [0]\n",
    "    course_bin = {}\n",
    "\n",
    "    for item in data:\n",
    "        if item['complete'] == 'true':\n",
    "            course_bin[item['name']] = 0\n",
    "            item['period'] = 0\n",
    "            item['color'] = 'black'\n",
    "            item['textcolor'] = 'white'\n",
    "        elif item['complete'] == 'trans':\n",
    "            course_bin[item['name']] = 0\n",
    "            item['period'] = 0\n",
    "            item['color'] = 'gray'\n",
    "            item['textcolor'] = 'black'\n",
    "        else:\n",
    "            start_bin = 1\n",
    "            if item['prerequisite']:\n",
    "                prerequisites = item['prerequisite'].split(' & ')\n",
    "                prerequisite_bins = [course_bin[prerequisite] for prerequisite in prerequisites]\n",
    "                max_prerequisite_bin = max(prerequisite_bins)\n",
    "                start_bin = max_prerequisite_bin + 1\n",
    "            period = start_bin\n",
    "            done = 0\n",
    "            while done == 0:\n",
    "                if period not in bin_credits:\n",
    "                    bin_credits.append(item['credits'])\n",
    "                    done = 1\n",
    "                elif bin_credits[period] + item['credits'] > max_credits:\n",
    "                    period += 1\n",
    "                else:\n",
    "                    bin_credits[period] += item['credits']\n",
    "                    done = 1\n",
    "            course_bin[item['name']] = period\n",
    "            item['period'] = period\n",
    "\n",
    "# Credit summary function\n",
    "def credit_summary(data):\n",
    "    summary = {}\n",
    "    for item in data:\n",
    "        if item['period'] not in summary:\n",
    "            summary[item['period']] = {'totalCredits': 0, 'courseCount': 0}\n",
    "        summary[item['period']]['totalCredits'] += item['credits']\n",
    "        summary[item['period']]['courseCount'] += 1\n",
    "    return summary\n"
   ]
  },
  {
   "cell_type": "code",
   "execution_count": 7,
   "id": "c3364c85",
   "metadata": {},
   "outputs": [
    {
     "data": {
      "text/plain": [
       "False"
      ]
     },
     "execution_count": 7,
     "metadata": {},
     "output_type": "execute_result"
    }
   ],
   "source": [
    "result"
   ]
  },
  {
   "cell_type": "code",
   "execution_count": 4,
   "id": "8d56b231",
   "metadata": {},
   "outputs": [],
   "source": [
    "def match(course):\n",
    "    print(f'This is the course: {course}\\n')"
   ]
  },
  {
   "cell_type": "code",
   "execution_count": 12,
   "id": "551a8758",
   "metadata": {},
   "outputs": [
    {
     "name": "stdout",
     "output_type": "stream",
     "text": [
      "Collecting graphlib\n",
      "  Downloading graphlib-0.9.5.tar.gz (8.0 kB)\n",
      "  Installing build dependencies ... \u001b[?25ldone\n",
      "\u001b[?25h  Getting requirements to build wheel ... \u001b[?25ldone\n",
      "\u001b[?25h  Installing backend dependencies ... \u001b[?25ldone\n",
      "\u001b[?25h  Preparing metadata (pyproject.toml) ... \u001b[?25ldone\n",
      "\u001b[?25hBuilding wheels for collected packages: graphlib\n",
      "  Building wheel for graphlib (pyproject.toml) ... \u001b[?25ldone\n",
      "\u001b[?25h  Created wheel for graphlib: filename=graphlib-0.9.5-py3-none-any.whl size=9634 sha256=a1f6ea9c0bd564c8a6261a4eed420f51b9d18bd04f27b93b2231ee8bf4ccd9cc\n",
      "  Stored in directory: /Users/david/Library/Caches/pip/wheels/6e/97/aa/4d1b8530b8c0b43503611459bfaf81e7e90f8963bd761abcbd\n",
      "Successfully built graphlib\n",
      "Installing collected packages: graphlib\n",
      "Successfully installed graphlib-0.9.5\n"
     ]
    }
   ],
   "source": [
    "!pip install graphlib"
   ]
  },
  {
   "cell_type": "code",
   "execution_count": 13,
   "id": "5723a607",
   "metadata": {},
   "outputs": [],
   "source": [
    "from graphlib import TopologicalSorter\n",
    "\n",
    "classes = {\n",
    "    \"A\": [],\n",
    "    \"B\": [\"A\"],\n",
    "    \"C\": [\"A\"],\n",
    "    \"D\": [\"B\", \"C\"],\n",
    "    \"E\": [\"A\", \"C\"],\n",
    "    \"F\": [],\n",
    "    \"G\": [],\n",
    "    \"H\": [\"D\"],\n",
    "    \"I\": [],\n",
    "    \"J\": [\"H\", \"F\"]\n",
    "}\n",
    "\n",
    "ts = TopologicalSorter(classes)"
   ]
  },
  {
   "cell_type": "code",
   "execution_count": 14,
   "id": "3ba127ff",
   "metadata": {},
   "outputs": [],
   "source": [
    "order = list(ts.static_order())"
   ]
  },
  {
   "cell_type": "code",
   "execution_count": 15,
   "id": "337699ab",
   "metadata": {},
   "outputs": [
    {
     "data": {
      "text/plain": [
       "['A', 'F', 'G', 'I', 'B', 'C', 'D', 'E', 'H', 'J']"
      ]
     },
     "execution_count": 15,
     "metadata": {},
     "output_type": "execute_result"
    }
   ],
   "source": [
    "order"
   ]
  },
  {
   "cell_type": "code",
   "execution_count": null,
   "id": "a8846f45",
   "metadata": {},
   "outputs": [],
   "source": []
  }
 ],
 "metadata": {
  "kernelspec": {
   "display_name": "Python 3 (ipykernel)",
   "language": "python",
   "name": "python3"
  },
  "language_info": {
   "codemirror_mode": {
    "name": "ipython",
    "version": 3
   },
   "file_extension": ".py",
   "mimetype": "text/x-python",
   "name": "python",
   "nbconvert_exporter": "python",
   "pygments_lexer": "ipython3",
   "version": "3.10.12"
  }
 },
 "nbformat": 4,
 "nbformat_minor": 5
}
