{
 "cells": [
  {
   "cell_type": "markdown",
   "id": "a0275bcc-8c5b-4890-8d8d-9ec586dc12c9",
   "metadata": {},
   "source": [
    "# UMGC Catalog\n",
    "## Step 1: Convert PDF to TXT"
   ]
  },
  {
   "cell_type": "code",
   "execution_count": null,
   "id": "8ac9f57d-1417-4aa6-bf1a-97cf95703885",
   "metadata": {},
   "outputs": [],
   "source": [
    "import sys\n",
    "from pdfminer.pdfdocument import PDFDocument\n",
    "from pdfminer.pdfparser import PDFParser\n",
    "from pdfminer.pdfinterp import PDFResourceManager, PDFPageInterpreter\n",
    "from pdfminer.pdfdevice import PDFDevice, TagExtractor\n",
    "from pdfminer.pdfpage import PDFPage\n",
    "from pdfminer.converter import TextConverter\n",
    "from pdfminer.cmapdb import CMapDB\n",
    "from pdfminer.layout import LTTextContainer, LAParams\n",
    "from pdfminer.image import ImageWriter\n",
    "\n",
    "def pdf_to_txt(outfile='tmp_pdf2txt.txt', infile='2023-2024-catalog-courses.pdf', \n",
    "               pages='', maxpages=0, password=b'', debug=0 ):\n",
    "\n",
    "    # input option\n",
    "    pagenos = set()\n",
    "    if pages != '':\n",
    "        pagenos.update( int(x)-1 for x in pages.split(',') )\n",
    "    imagewriter = None\n",
    "    rotation = 0\n",
    "    stripcontrol = False\n",
    "    layoutmode = 'normal'\n",
    "    encoding = 'utf-8'\n",
    "    pageno = 1\n",
    "    scale = 1\n",
    "    caching = True\n",
    "    showpageno = True\n",
    "    laparams = LAParams()\n",
    "    #\n",
    "    rsrcmgr = PDFResourceManager(caching=caching)\n",
    "    outfp = open(outfile, 'w', encoding=encoding)\n",
    "    device = TextConverter(rsrcmgr, outfp, laparams=laparams, imagewriter=None)\n",
    "    with open(infile, 'rb') as fp:\n",
    "        interpreter = PDFPageInterpreter(rsrcmgr, device)\n",
    "        for page in PDFPage.get_pages(fp, pagenos, maxpages=maxpages, password=password,\n",
    "                                      caching=caching, check_extractable=True):\n",
    "            interpreter.process_page(page)\n",
    "    device.close()\n",
    "    outfp.close()\n",
    "    return"
   ]
  },
  {
   "cell_type": "code",
   "execution_count": null,
   "id": "8b8262e7-c25b-4b0e-a8c7-76f355453264",
   "metadata": {},
   "outputs": [],
   "source": [
    "pdf_to_txt()"
   ]
  },
  {
   "cell_type": "code",
   "execution_count": null,
   "id": "2706bf74-7084-46d0-bd24-eeb53f4a9f1d",
   "metadata": {},
   "outputs": [],
   "source": []
  }
 ],
 "metadata": {
  "kernelspec": {
   "display_name": "Python 3 (ipykernel)",
   "language": "python",
   "name": "python3"
  },
  "language_info": {
   "codemirror_mode": {
    "name": "ipython",
    "version": 3
   },
   "file_extension": ".py",
   "mimetype": "text/x-python",
   "name": "python",
   "nbconvert_exporter": "python",
   "pygments_lexer": "ipython3",
   "version": "3.9.18"
  }
 },
 "nbformat": 4,
 "nbformat_minor": 5
}
