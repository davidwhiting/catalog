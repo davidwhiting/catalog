{
 "cells": [
  {
   "cell_type": "code",
   "execution_count": 1,
   "id": "1036eac8",
   "metadata": {},
   "outputs": [
    {
     "name": "stderr",
     "output_type": "stream",
     "text": [
      "/var/folders/zy/3gdh0s5n2x38gj3cqxm_4n5r0000gn/T/ipykernel_6767/3364173113.py:2: DeprecationWarning: \n",
      "Pyarrow will become a required dependency of pandas in the next major release of pandas (pandas 3.0),\n",
      "(to allow more performant data types, such as the Arrow string type, and better interoperability with other libraries)\n",
      "but was not found to be installed on your system.\n",
      "If this would cause problems for you,\n",
      "please provide us feedback at https://github.com/pandas-dev/pandas/issues/54466\n",
      "        \n",
      "  import pandas as pd\n"
     ]
    }
   ],
   "source": [
    "import sqlite3\n",
    "import pandas as pd\n",
    "import numpy as np\n",
    "\n",
    "conn = sqlite3.connect('UMGC.db')\n",
    "c = conn.cursor()"
   ]
  },
  {
   "cell_type": "code",
   "execution_count": 4,
   "id": "0a2696c7-e5a0-434a-a0c3-ffe0be7fe2f5",
   "metadata": {},
   "outputs": [],
   "source": [
    "def drop_view(table, db=c):\n",
    "    db.execute('DROP VIEW IF EXISTS ' + table)"
   ]
  },
  {
   "cell_type": "code",
   "execution_count": 6,
   "id": "11bbb000-50f0-4c7e-a9bb-0657abb7b13f",
   "metadata": {},
   "outputs": [
    {
     "data": {
      "text/plain": [
       "<sqlite3.Cursor at 0x12e08f440>"
      ]
     },
     "execution_count": 6,
     "metadata": {},
     "output_type": "execute_result"
    }
   ],
   "source": [
    "c.execute('select * from program_requirements where program_id=?', (10,))"
   ]
  },
  {
   "cell_type": "code",
   "execution_count": 7,
   "id": "3dee399d-3fd0-4cfe-912b-4c1bd385eb74",
   "metadata": {},
   "outputs": [],
   "source": [
    "row = c.fetchone()"
   ]
  },
  {
   "cell_type": "code",
   "execution_count": 8,
   "id": "9bae76fb-4051-4c4d-aad2-acacf0669fb5",
   "metadata": {},
   "outputs": [
    {
     "data": {
      "text/plain": [
       "(2, 10, 33, 12, 0, 75, 120)"
      ]
     },
     "execution_count": 8,
     "metadata": {},
     "output_type": "execute_result"
    }
   ],
   "source": [
    "row"
   ]
  },
  {
   "cell_type": "code",
   "execution_count": 9,
   "id": "459699ab-7841-461c-81c0-47a71e8da8e0",
   "metadata": {},
   "outputs": [],
   "source": [
    "conn.row_factory=sqlite3.Row\n",
    "db = conn.cursor()"
   ]
  },
  {
   "cell_type": "code",
   "execution_count": 18,
   "id": "22442a21-331a-4fd8-8d8d-d9333366a9ab",
   "metadata": {},
   "outputs": [
    {
     "data": {
      "text/plain": [
       "<sqlite3.Cursor at 0x12e519240>"
      ]
     },
     "execution_count": 18,
     "metadata": {},
     "output_type": "execute_result"
    }
   ],
   "source": [
    "db.execute('select * from program_requirements where program_id=?', (10,))"
   ]
  },
  {
   "cell_type": "code",
   "execution_count": 19,
   "id": "ebd177c5-f32c-47ed-b995-131d42f86a53",
   "metadata": {},
   "outputs": [],
   "source": [
    "rows = db.fetchall()"
   ]
  },
  {
   "cell_type": "code",
   "execution_count": 21,
   "id": "9573ab53-5e22-4537-9eaf-b797b800d790",
   "metadata": {},
   "outputs": [],
   "source": [
    "dict_rows = [dict(row) for row in rows]"
   ]
  },
  {
   "cell_type": "code",
   "execution_count": 24,
   "id": "39ddda90-99d8-4b2c-a1ce-ab1c4ba0dfd6",
   "metadata": {},
   "outputs": [
    {
     "data": {
      "text/plain": [
       "1"
      ]
     },
     "execution_count": 24,
     "metadata": {},
     "output_type": "execute_result"
    }
   ],
   "source": [
    "len(dict_rows)"
   ]
  },
  {
   "cell_type": "code",
   "execution_count": 25,
   "id": "65c5795c-96c7-46cc-846d-de129e8007d2",
   "metadata": {},
   "outputs": [
    {
     "data": {
      "text/plain": [
       "{'id': 2,\n",
       " 'program_id': 10,\n",
       " 'major': 33,\n",
       " 'related_ge': 12,\n",
       " 'related_elective': 0,\n",
       " 'remaining': 75,\n",
       " 'total': 120}"
      ]
     },
     "execution_count": 25,
     "metadata": {},
     "output_type": "execute_result"
    }
   ],
   "source": [
    "row = dict_rows[0]\n",
    "row"
   ]
  },
  {
   "cell_type": "code",
   "execution_count": 5,
   "id": "96b85405-27e0-4366-b26e-6d30e5f89e82",
   "metadata": {},
   "outputs": [],
   "source": [
    "drop_view('student_records_view_old')\n",
    "create_view_query = '''\n",
    "    CREATE VIEW student_records_view_old AS\n",
    "    SELECT \n",
    "        a.seq as seq,\n",
    "        a.student_info_id as student_info_id,\n",
    "        a.name as name,\n",
    "        a.credits as credits,\n",
    "        a.type as type,\n",
    "        a.completed as completed,\n",
    "        a.period as period,\n",
    "        a.session as session,\n",
    "        a.prerequisite as prerequisite,\n",
    "        IFNULL(b.title, '') AS title,\n",
    "        IFNULL(b.description, '') AS description,\n",
    "        IFNULL(b.prerequisites, '') as prereq_full\n",
    "    FROM \n",
    "        student_progress a\n",
    "    LEFT JOIN \n",
    "        classes b\n",
    "    ON \n",
    "        a.name = b.name\n",
    "'''\n",
    "c.execute(create_view_query)\n",
    "conn.commit()"
   ]
  },
  {
   "cell_type": "code",
   "execution_count": 5,
   "id": "fbc34f52-b815-48b5-a048-d2f3488c839b",
   "metadata": {},
   "outputs": [],
   "source": [
    "drop_view('student_records_view')\n",
    "create_view_query = '''\n",
    "    CREATE VIEW student_records_view_old AS\n",
    "    SELECT \n",
    "        a.seq as seq,\n",
    "        a.student_info_id as student_id,\n",
    "        a.name as name,\n",
    "        a.credits as credits,\n",
    "        a.type as type,\n",
    "        a.completed as completed,\n",
    "        a.period as period,\n",
    "        a.session as session,\n",
    "        a.prerequisite as prerequisite,\n",
    "        IFNULL(b.title, '') AS title,\n",
    "        IFNULL(b.description, '') AS description,\n",
    "        IFNULL(b.prerequisites, '') as prereq_full\n",
    "    FROM \n",
    "        student_progress a\n",
    "    LEFT JOIN \n",
    "        classes b\n",
    "    ON \n",
    "        a.name = b.name\n",
    "'''\n",
    "c.execute(create_view_query)\n",
    "conn.commit()"
   ]
  },
  {
   "cell_type": "code",
   "execution_count": 3,
   "id": "e26edd56-b494-464b-b72a-91286f03350b",
   "metadata": {},
   "outputs": [
    {
     "ename": "OperationalError",
     "evalue": "no such column: student_info_id",
     "output_type": "error",
     "traceback": [
      "\u001b[0;31m---------------------------------------------------------------------------\u001b[0m",
      "\u001b[0;31mOperationalError\u001b[0m                          Traceback (most recent call last)",
      "Cell \u001b[0;32mIn[3], line 1\u001b[0m\n\u001b[0;32m----> 1\u001b[0m \u001b[43mc\u001b[49m\u001b[38;5;241;43m.\u001b[39;49m\u001b[43mexecute\u001b[49m\u001b[43m(\u001b[49m\u001b[38;5;124;43m\"\u001b[39;49m\u001b[38;5;124;43mselect * from student_records_view_old where student_info_id=1\u001b[39;49m\u001b[38;5;124;43m\"\u001b[39;49m\u001b[43m)\u001b[49m\n",
      "\u001b[0;31mOperationalError\u001b[0m: no such column: student_info_id"
     ]
    }
   ],
   "source": [
    "c.execute(\"select * from student_records_view_old\")"
   ]
  },
  {
   "cell_type": "code",
   "execution_count": null,
   "id": "31689253-6e5b-4e1b-baf6-24c43ed7f9c7",
   "metadata": {},
   "outputs": [],
   "source": [
    "w"
   ]
  },
  {
   "cell_type": "code",
   "execution_count": null,
   "id": "6bffd0f3-ee64-454f-a0e9-e6dbaa25c0c9",
   "metadata": {},
   "outputs": [],
   "source": [
    "def single_query(query, cursor):\n",
    "    # convenience function for sqlite3 db queries that return one value\n",
    "    cursor.execute(query)\n",
    "    q_result = cursor.fetchone()\n",
    "    if q_result is not None:\n",
    "        result = q_result[0]\n",
    "    else:\n",
    "        result = None\n",
    "\n",
    "    return result"
   ]
  },
  {
   "cell_type": "code",
   "execution_count": null,
   "id": "b7c17e94-ff9f-4a9b-bbdf-44f47ebad412",
   "metadata": {},
   "outputs": [],
   "source": [
    "def prepare_d3_data(df, start_term='SPRING 2024'):\n",
    "\n",
    "    def set_colors(row):\n",
    "        if row['type'] == 'general':\n",
    "            return pd.Series(['green', 'white'])\n",
    "        elif row['type'] == 'major':\n",
    "            return pd.Series(['blue', 'white'])\n",
    "        elif row['type'] == 'required':\n",
    "            return pd.Series(['red', 'white'])\n",
    "        elif row['type'] == 'elective':\n",
    "            return pd.Series(['yellow', 'black'])\n",
    "        else:\n",
    "            return pd.Series(['white', 'black'])  # default colors\n",
    "\n",
    "    def generate_header_data(start_semester, num_periods, data_df = df):\n",
    "        seasons = ['WINTER', 'SPRING', 'SUMMER', 'FALL']\n",
    "        semester_data = []\n",
    "        start_season, start_year = start_semester.split(' ')\n",
    "        start_year = int(start_year)\n",
    "        season_index = seasons.index(start_season)\n",
    "        year = start_year\n",
    "        period = 0\n",
    "\n",
    "        while period < num_periods:\n",
    "            for j in range(season_index, len(seasons)):\n",
    "                semester_data.append(f'{seasons[j]} {year}')\n",
    "                period += 1\n",
    "\n",
    "                # Break the loop when i equals num_periods\n",
    "                if period == num_periods:\n",
    "                    break\n",
    "\n",
    "            # Reset the season index to start from 'WINTER' for the next year\n",
    "            season_index = 0\n",
    "            year += 1\n",
    "\n",
    "        df = pd.DataFrame(semester_data, columns=['term'])\n",
    "        df['width'] = df['term'].apply(lambda x: 190 if 'SUMMER' in x else 260)\n",
    "        df['offset'] = df['term'].apply(lambda x: 2 if 'SUMMER' in x else 3)\n",
    "        df['fontsize'] = '14px'\n",
    "        df['description'] = ''\n",
    "        df['space'] = 40\n",
    "        df['xpos'] = df['width'] + df['space']\n",
    "\n",
    "        x0 = 10\n",
    "        # Calculate the cumulative sum of 'xpos'\n",
    "        df['x'] = df['xpos'].cumsum()\n",
    "        df['x'] = df['x'].shift(1)\n",
    "        df.loc[0, 'x'] = 0\n",
    "        df['x'] = df['x'] + x0\n",
    "        df['y'] = 10\n",
    "        df['color'] = 'lightgray'\n",
    "        df['textcolor'] = 'black'\n",
    "        df['period'] = np.arange(1, num_periods+1)\n",
    "\n",
    "        df.drop\n",
    "        # Sum credits per period and convert to a DataFrame\n",
    "        total_credits = data_df.groupby('period')['credits'].sum().sort_index()\n",
    "        total_credits_df = total_credits.reset_index()\n",
    "\n",
    "        df = pd.merge(df, total_credits_df, on='period', how='inner')\n",
    "        df['name'] = df['term']\n",
    "        df['printname'] = df['name'] + ' (' + df['credits'].astype(str) + ')'\n",
    "\n",
    "        return df[['x', 'y', 'width', 'printname', 'color', 'textcolor', 'offset', \n",
    "                   'fontsize', 'period', 'name', 'credits', 'description']]\n",
    "\n",
    "    # Prepare data for the D3 figure\n",
    "\n",
    "    max_period = max(df['period'])\n",
    "    headers = generate_header_data(start_term, max_period)\n",
    "\n",
    "    df['description'] = df['prerequisite']\n",
    "    df['width'] = 120\n",
    "    # Calculate 'x' column\n",
    "    df = pd.merge(df, headers[['period','x']], on='period', how='left')\n",
    "    df['x'] += 70*(df['session']-1)\n",
    "\n",
    "    # Calculate 'y' column\n",
    "    df = df.sort_values(by=['period', 'session', 'seq' ])\n",
    "    df['y_row'] = df.groupby('period').cumcount() + 1\n",
    "    df['y'] = 70 + 45 * (df['y_row'] - 1)\n",
    "\n",
    "    # Create rectangle colors\n",
    "    df[['color', 'textcolor']] = df.apply(set_colors, axis=1)\n",
    "\n",
    "    # Set text offset multiplier to 1 and text fontsize\n",
    "    df['offset'] = 1\n",
    "    df['fontsize'] = '12px'\n",
    "    df['printname'] = df['name'] + ' (' + df['credits'].astype(str) + ')'\n",
    "    \n",
    "    df = df[['x', 'y', 'width', 'printname', 'color', 'textcolor', 'offset', 'fontsize', 'period', 'session', 'type', 'name', 'credits', 'description']]\n",
    "\n",
    "    return df, headers"
   ]
  },
  {
   "cell_type": "markdown",
   "id": "8b2d24f6-6277-43a9-b2db-20eedd00d928",
   "metadata": {},
   "source": [
    "# General Education"
   ]
  },
  {
   "cell_type": "code",
   "execution_count": null,
   "id": "94f981f4",
   "metadata": {},
   "outputs": [],
   "source": []
  },
  {
   "cell_type": "code",
   "execution_count": null,
   "id": "71341aee",
   "metadata": {},
   "outputs": [],
   "source": [
    "def single_query(query, cursor):\n",
    "    # convenience function for sqlite3 db queries that return one value\n",
    "    cursor.execute(query)\n",
    "    q_result = cursor.fetchone()\n",
    "    if q_result is not None:\n",
    "        result = q_result[0]\n",
    "    else:\n",
    "        result = None\n",
    "\n",
    "    return result\n"
   ]
  },
  {
   "cell_type": "code",
   "execution_count": null,
   "id": "848ddc97",
   "metadata": {},
   "outputs": [],
   "source": []
  },
  {
   "cell_type": "code",
   "execution_count": null,
   "id": "fa4701fd",
   "metadata": {},
   "outputs": [],
   "source": [
    "student_name_query = '''\n",
    "    SELECT users.firstname || ' ' || users.lastname AS 'name'\n",
    "        FROM users \n",
    "        INNER JOIN student_info ON users.id = student_info.user_id \n",
    "        WHERE student_info.id = {}\n",
    "'''"
   ]
  },
  {
   "cell_type": "code",
   "execution_count": null,
   "id": "6dd43bfa",
   "metadata": {},
   "outputs": [],
   "source": [
    "student_info_id = 3\n",
    "student_name = single_query(student_name_query.format(student_info_id), cur)    \n",
    "student_progress_query = 'SELECT * FROM student_progress WHERE student_info_id={}'.format(student_info_id)\n",
    "df_raw = pd.read_sql_query(student_progress_query, conn)"
   ]
  },
  {
   "cell_type": "code",
   "execution_count": null,
   "id": "e9f7b719",
   "metadata": {},
   "outputs": [],
   "source": [
    "course_summary = df_raw.groupby(['type','completed']).agg(\n",
    "    n=('credits', 'count'),\n",
    "    total=('credits', 'sum')\n",
    ").reset_index()\n",
    "course_summary"
   ]
  },
  {
   "cell_type": "code",
   "execution_count": null,
   "id": "7a6a5894",
   "metadata": {},
   "outputs": [],
   "source": [
    "df = df_raw[df_raw['completed'] == 0].copy() # create a separate dataframe"
   ]
  },
  {
   "cell_type": "code",
   "execution_count": null,
   "id": "099e0fb1",
   "metadata": {},
   "outputs": [],
   "source": [
    "import utils\n",
    "# pick up start_term from the form\n",
    "start_term = 'SPRING 2024'\n",
    "\n",
    "# may need to rewrite this for later\n",
    "df_d3, headers = utils.prepare_d3_data(df, start_term.upper())\n"
   ]
  },
  {
   "cell_type": "code",
   "execution_count": null,
   "id": "31b4b31e",
   "metadata": {},
   "outputs": [],
   "source": [
    "df_filtered = df_filtered.merge(headers[['period', 'name']].rename(columns={'name': 'term'}), on='period', how='left')"
   ]
  },
  {
   "cell_type": "code",
   "execution_count": null,
   "id": "95d88273",
   "metadata": {},
   "outputs": [],
   "source": [
    "records = df0.to_dict('records')\n"
   ]
  },
  {
   "cell_type": "code",
   "execution_count": null,
   "id": "7c857acd",
   "metadata": {},
   "outputs": [],
   "source": [
    "course_summary = df0.groupby(['type','completed']).agg(\n",
    "    n=('credits', 'count'),\n",
    "    total=('credits', 'sum')\n",
    ").reset_index()\n",
    "summary"
   ]
  },
  {
   "cell_type": "markdown",
   "id": "49116ce8",
   "metadata": {},
   "source": [
    "records[0]"
   ]
  },
  {
   "cell_type": "markdown",
   "id": "ebb2bfda-0b6c-463d-b7db-6acea3c078f5",
   "metadata": {},
   "source": [
    "## Dev "
   ]
  },
  {
   "cell_type": "code",
   "execution_count": null,
   "id": "170b5a7e-44f6-4cbc-a1fc-dcae87687636",
   "metadata": {},
   "outputs": [],
   "source": [
    "import sqlite3"
   ]
  },
  {
   "cell_type": "code",
   "execution_count": null,
   "id": "eb412ef0-9442-45d6-8434-d095d11a4d9c",
   "metadata": {},
   "outputs": [],
   "source": [
    "conn = sqlite3.connect('UMGC.db')"
   ]
  },
  {
   "cell_type": "code",
   "execution_count": null,
   "id": "da129ba8-9b1a-4f51-9fcc-075f58ef72f9",
   "metadata": {},
   "outputs": [],
   "source": [
    "c = conn.cursor()\n",
    "c.execute('''\n",
    "    CREATE TABLE classes (\n",
    "        name TEXT,\n",
    "        title TEXT,\n",
    "        credit TEXT,\n",
    "        description TEXT,\n",
    "        prerequisites TEXT,\n",
    "        recommended TEXT,\n",
    "        warnings TEXT,\n",
    "        substitutions TEXT,\n",
    "        pre TEXT,\n",
    "        pre_credits TEXT,\n",
    "        pre_notes TEXT,\n",
    "        done INTEGER\n",
    "    )\n",
    "''')\n"
   ]
  },
  {
   "cell_type": "code",
   "execution_count": null,
   "id": "9169496d-0412-46e4-8e6c-e9668ef00be1",
   "metadata": {},
   "outputs": [],
   "source": [
    "# Insert data into the table\n",
    "\n",
    "for class_name, class_info in classes.items():\n",
    "    c.execute('''\n",
    "        INSERT INTO classes VALUES (?, ?, ?, ?, ?, ?, ?, ?, ?, ?, ?, ?)\n",
    "    ''', (\n",
    "        class_info['name'],\n",
    "        class_info['title'],\n",
    "        class_info['credit'],\n",
    "        class_info['description'],\n",
    "        class_info['prerequisites'],\n",
    "        class_info['recommended'],\n",
    "        class_info['warnings'],\n",
    "        class_info['substitutions'],\n",
    "        class_info['pre'],\n",
    "        class_info['pre_credits'],\n",
    "        class_info['pre_notes'],\n",
    "        int(class_info['done'])\n",
    "    ))\n"
   ]
  },
  {
   "cell_type": "code",
   "execution_count": null,
   "id": "ff8d7bc3-0ab3-4431-b060-db000c3b33dc",
   "metadata": {},
   "outputs": [],
   "source": [
    "conn.commit()\n",
    "conn.close()"
   ]
  },
  {
   "cell_type": "code",
   "execution_count": null,
   "id": "640fdbdf-db12-4146-8c0a-f6680f6cf690",
   "metadata": {},
   "outputs": [],
   "source": [
    "json_data = df.to_json(orient='records')\n"
   ]
  },
  {
   "cell_type": "code",
   "execution_count": null,
   "id": "4792db0c-0f6d-42fa-889a-f75bac8498b1",
   "metadata": {},
   "outputs": [],
   "source": [
    "data_dict = df.to_dict(orient='records')\n"
   ]
  },
  {
   "cell_type": "code",
   "execution_count": null,
   "id": "9454e29d-28f5-439e-a8ac-72da09b85ca0",
   "metadata": {},
   "outputs": [],
   "source": [
    "data_json_new = [\n",
    "    { \"seq\":  1, \"name\": \"PACE 111\", \"credits\": 3, \"type\": \"general\",  \"period\":  1, \"session\": 1, \"prerequisite\": \"\"                                },\n",
    "    { \"seq\":  2, \"name\": \"LIBS 150\", \"credits\": 1, \"type\": \"general\",  \"period\":  1, \"session\": 2, \"prerequisite\": \"\"                                },\n",
    "    { \"seq\":  3, \"name\": \"WRTG 111\", \"credits\": 3, \"type\": \"general\",  \"period\":  1, \"session\": 3, \"prerequisite\": \"\"                                },\n",
    "    { \"seq\":  4, \"name\": \"WRTG 112\", \"credits\": 3, \"type\": \"general\",  \"period\":  2, \"session\": 1, \"prerequisite\": \"\"                                },\n",
    "    { \"seq\":  5, \"name\": \"NUTR 100\", \"credits\": 3, \"type\": \"general\",  \"period\":  2, \"session\": 2, \"prerequisite\": \"\"                                },\n",
    "    { \"seq\":  6, \"name\": \"BMGT 110\", \"credits\": 3, \"type\": \"major\",    \"period\":  2, \"session\": 3, \"prerequisite\": \"\"                                },\n",
    "    { \"seq\":  7, \"name\": \"SPCH 100\", \"credits\": 3, \"type\": \"general\",  \"period\":  3, \"session\": 1, \"prerequisite\": \"\"                                },\n",
    "    { \"seq\":  8, \"name\": \"STAT 200\", \"credits\": 3, \"type\": \"required\", \"period\":  3, \"session\": 2, \"prerequisite\": \"\"                                },\n",
    "    { \"seq\":  9, \"name\": \"IFSM 300\", \"credits\": 3, \"type\": \"required\", \"period\":  4, \"session\": 1, \"prerequisite\": \"\"                                },\n",
    "    { \"seq\": 10, \"name\": \"ACCT 220\", \"credits\": 3, \"type\": \"major\",    \"period\":  4, \"session\": 1, \"prerequisite\": \"\"                                }, \n",
    "    { \"seq\": 11, \"name\": \"HUMN 100\", \"credits\": 3, \"type\": \"general\",  \"period\":  4, \"session\": 2, \"prerequisite\": \"\"                                }, \n",
    "    { \"seq\": 12, \"name\": \"BIOL 103\", \"credits\": 4, \"type\": \"general\",  \"period\":  5, \"session\": 1, \"prerequisite\": \"\"                                }, \n",
    "    { \"seq\": 13, \"name\": \"ECON 201\", \"credits\": 3, \"type\": \"required\", \"period\":  4, \"session\": 3, \"prerequisite\": \"\"                                }, \n",
    "    { \"seq\": 14, \"name\": \"ARTH 334\", \"credits\": 3, \"type\": \"general\",  \"period\":  5, \"session\": 2, \"prerequisite\": \"\"                                },\n",
    "    { \"seq\": 15, \"name\": \"ELECTIVE\", \"credits\": 3, \"type\": \"elective\", \"period\":  6, \"session\": 1, \"prerequisite\": \"\"                                }, \n",
    "    { \"seq\": 16, \"name\": \"ECON 203\", \"credits\": 3, \"type\": \"required\", \"period\":  6, \"session\": 2, \"prerequisite\": \"\"                                }, \n",
    "    { \"seq\": 17, \"name\": \"ACCT 221\", \"credits\": 3, \"type\": \"major\",    \"period\":  6, \"session\": 3, \"prerequisite\": \"ACCT 220\"                        }, \n",
    "    { \"seq\": 18, \"name\": \"ELECTIVE\", \"credits\": 3, \"type\": \"elective\", \"period\":  7, \"session\": 1, \"prerequisite\": \"\"                                }, \n",
    "    { \"seq\": 19, \"name\": \"BMGT 364\", \"credits\": 3, \"type\": \"major\",    \"period\":  7, \"session\": 2, \"prerequisite\": \"\"                                }, \n",
    "    { \"seq\": 20, \"name\": \"ELECTIVE\", \"credits\": 3, \"type\": \"elective\", \"period\":  8, \"session\": 1, \"prerequisite\": \"\"                                }, \n",
    "    { \"seq\": 21, \"name\": \"BMGT 365\", \"credits\": 3, \"type\": \"major\",    \"period\":  8, \"session\": 2, \"prerequisite\": \"BMGT 364\"                        }, \n",
    "    { \"seq\": 22, \"name\": \"ELECTIVE\", \"credits\": 3, \"type\": \"elective\", \"period\":  8, \"session\": 3, \"prerequisite\": \"\"                                }, \n",
    "    { \"seq\": 23, \"name\": \"MRKT 310\", \"credits\": 3, \"type\": \"major\",    \"period\":  8, \"session\": 1, \"prerequisite\": \"\"                                }, \n",
    "    { \"seq\": 24, \"name\": \"WRTG 394\", \"credits\": 3, \"type\": \"general\",  \"period\":  9, \"session\": 1, \"prerequisite\": \"WRTG 112\"                        }, \n",
    "    { \"seq\": 25, \"name\": \"ELECTIVE\", \"credits\": 3, \"type\": \"elective\", \"period\":  9, \"session\": 2, \"prerequisite\": \"\"                                }, \n",
    "    { \"seq\": 26, \"name\": \"BMGT 380\", \"credits\": 3, \"type\": \"major\",    \"period\":  9, \"session\": 3, \"prerequisite\": \"\"                                }, \n",
    "    { \"seq\": 27, \"name\": \"ELECTIVE\", \"credits\": 3, \"type\": \"elective\", \"period\": 10, \"session\": 1, \"prerequisite\": \"\"                                }, \n",
    "    { \"seq\": 28, \"name\": \"ELECTIVE\", \"credits\": 3, \"type\": \"elective\", \"period\": 10, \"session\": 2, \"prerequisite\": \"\"                                }, \n",
    "    { \"seq\": 29, \"name\": \"HRMN 300\", \"credits\": 3, \"type\": \"major\",    \"period\": 10, \"session\": 3, \"prerequisite\": \"\"                                },\n",
    "    { \"seq\": 30, \"name\": \"ELECTIVE\", \"credits\": 3, \"type\": \"elective\", \"period\": 11, \"session\": 1, \"prerequisite\": \"\"                                }, \n",
    "    { \"seq\": 31, \"name\": \"ELECTIVE\", \"credits\": 3, \"type\": \"elective\", \"period\": 11, \"session\": 2, \"prerequisite\": \"\"                                }, \n",
    "    { \"seq\": 32, \"name\": \"FINC 330\", \"credits\": 3, \"type\": \"major\",    \"period\": 12, \"session\": 1, \"prerequisite\": \"ACCT 221 & STAT 200\"             }, \n",
    "    { \"seq\": 33, \"name\": \"ELECTIVE\", \"credits\": 3, \"type\": \"elective\", \"period\": 12, \"session\": 2, \"prerequisite\": \"\"                                }, \n",
    "    { \"seq\": 34, \"name\": \"ELECTIVE\", \"credits\": 3, \"type\": \"elective\", \"period\": 12, \"session\": 3, \"prerequisite\": \"\"                                }, \n",
    "    { \"seq\": 35, \"name\": \"BMGT 496\", \"credits\": 3, \"type\": \"major\",    \"period\": 12, \"session\": 1, \"prerequisite\": \"\"                                }, \n",
    "    { \"seq\": 36, \"name\": \"ELECTIVE\", \"credits\": 3, \"type\": \"elective\", \"period\": 13, \"session\": 1, \"prerequisite\": \"\"                                }, \n",
    "    { \"seq\": 37, \"name\": \"ELECTIVE\", \"credits\": 3, \"type\": \"elective\", \"period\": 13, \"session\": 2, \"prerequisite\": \"\"                                }, \n",
    "    { \"seq\": 38, \"name\": \"ELECTIVE\", \"credits\": 3, \"type\": \"elective\", \"period\": 13, \"session\": 3, \"prerequisite\": \"\"                                }, \n",
    "    { \"seq\": 39, \"name\": \"ELECTIVE\", \"credits\": 3, \"type\": \"elective\", \"period\": 14, \"session\": 1, \"prerequisite\": \"\"                                }, \n",
    "    { \"seq\": 40, \"name\": \"BMGT 495\", \"credits\": 3, \"type\": \"major\",    \"period\": 14, \"session\": 2, \"prerequisite\": \"BMGT 365 & MRKT 310 & FINC 330\"  }, \n",
    "    { \"seq\": 41, \"name\": \"CAPSTONE\", \"credits\": 1, \"type\": \"elective\", \"period\": 14, \"session\": 3, \"prerequisite\": \"FINC 330\"                        }, \n",
    "]\n"
   ]
  },
  {
   "cell_type": "markdown",
   "id": "e7081009-517b-4afe-93b0-74de7c8549ea",
   "metadata": {},
   "source": [
    "## Updated Python Code"
   ]
  },
  {
   "cell_type": "code",
   "execution_count": null,
   "id": "daf79b4e-3bfc-428a-8660-d64f3f4225c1",
   "metadata": {},
   "outputs": [],
   "source": [
    "import pandas as pd\n",
    "import numpy as np\n",
    "\n",
    "def generate_header_data(start_semester, num_periods, data_df = df):\n",
    "    seasons = ['WINTER', 'SPRING', 'SUMMER', 'FALL']\n",
    "    semester_data = []\n",
    "    start_season, start_year = start_semester.split(' ')\n",
    "    start_year = int(start_year)\n",
    "    season_index = seasons.index(start_season)\n",
    "    year = start_year\n",
    "    period = 0\n",
    "\n",
    "    while period < num_periods:\n",
    "        for j in range(season_index, len(seasons)):\n",
    "            semester_data.append(f'{seasons[j]} {year}')\n",
    "            period += 1\n",
    "\n",
    "            # Break the loop when i equals num_periods\n",
    "            if period == num_periods:\n",
    "                break\n",
    "\n",
    "        # Reset the season index to start from 'WINTER' for the next year\n",
    "        season_index = 0\n",
    "        year += 1\n",
    "\n",
    "    df = pd.DataFrame(semester_data, columns=['term'])\n",
    "    df['width'] = df['term'].apply(lambda x: 190 if 'SUMMER' in x else 260)\n",
    "    df['offset'] = df['term'].apply(lambda x: 2 if 'SUMMER' in x else 3)\n",
    "    df['fontsize'] = '14px'\n",
    "    df['description'] = ''\n",
    "    df['space'] = 40\n",
    "    df['xpos'] = df['width'] + df['space']\n",
    "\n",
    "    x0 = 10\n",
    "    # Calculate the cumulative sum of 'xpos'\n",
    "    df['x'] = df['xpos'].cumsum()\n",
    "    df['x'] = df['x'].shift(1)\n",
    "    df.loc[0, 'x'] = 0\n",
    "    df['x'] = df['x'] + x0\n",
    "    df['y'] = 10\n",
    "    df['color'] = 'lightgray'\n",
    "    df['textcolor'] = 'black'\n",
    "    df['period'] = np.arange(1, num_periods+1)\n",
    "\n",
    "    df.drop\n",
    "    # Sum credits per period and convert to a DataFrame\n",
    "    total_credits = data_df.groupby('period')['credits'].sum().sort_index()\n",
    "    total_credits_df = total_credits.reset_index()\n",
    "\n",
    "    df = pd.merge(df, total_credits_df, on='period', how='inner')\n",
    "    df['name'] = df['term']\n",
    "    df['printname'] = df['name'] + ' (' + df['credits'].astype(str) + ')'\n",
    "\n",
    "    return df[['x', 'y', 'width', 'printname', 'color', 'textcolor', 'offset', 'fontsize', 'period', 'name', 'credits', 'description']]\n",
    "\n",
    "def set_colors(row):\n",
    "    if row['type'] == 'general':\n",
    "        return pd.Series(['green', 'white'])\n",
    "    elif row['type'] == 'major':\n",
    "        return pd.Series(['blue', 'white'])\n",
    "    elif row['type'] == 'required':\n",
    "        return pd.Series(['red', 'white'])\n",
    "    elif row['type'] == 'elective':\n",
    "        return pd.Series(['yellow', 'black'])\n",
    "    else:\n",
    "        return pd.Series(['white', 'black'])  # default colors\n",
    "\n",
    "def prepare_d3_data(df, start_term='SPRING 2024'):\n",
    "    # Function to prepare the data to be fed into the D3 code\n",
    "    max_period = max(df['period'])\n",
    "    headers = generate_header_data(start_term, max_period)\n",
    "\n",
    "    df['description'] = df['prerequisite']\n",
    "    df['width'] = 120\n",
    "    # Calculate 'x' column\n",
    "    df = pd.merge(df, headers[['period','x']], on='period', how='left')\n",
    "    df['x'] += 70*(df['session']-1)\n",
    "\n",
    "    # Calculate 'y' column\n",
    "    df = df.sort_values(by=['period', 'session', 'seq' ])\n",
    "    df['y_row'] = df.groupby('period').cumcount() + 1\n",
    "    df['y'] = 70 + 45 * (df['y_row'] - 1)\n",
    "\n",
    "    # Create rectangle colors\n",
    "    df[['color', 'textcolor']] = df.apply(set_colors, axis=1)\n",
    "\n",
    "    # Set text offset multiplier to 1 and text fontsize\n",
    "    df['offset'] = 1\n",
    "    df['fontsize'] = '12px'\n",
    "    df['printname'] = df['name'] + ' (' + df['credits'].astype(str) + ')'\n",
    "    \n",
    "    df = df[['x', 'y', 'width', 'printname', 'color', 'textcolor', 'offset', 'fontsize', 'period', 'session', 'type', 'name', 'credits', 'description']]\n",
    "\n",
    "    return df, headers"
   ]
  },
  {
   "cell_type": "markdown",
   "id": "64d8c024-ab0f-488a-afdb-1e9a6fe79e4f",
   "metadata": {},
   "source": [
    "#### Get data from the database instead of the json file"
   ]
  },
  {
   "cell_type": "code",
   "execution_count": null,
   "id": "a31098cd-43cf-44ec-b631-d32d95aeb638",
   "metadata": {},
   "outputs": [],
   "source": [
    "def prepare_d3_data(df, start_term='SPRING 2024'):\n",
    "\n",
    "    def set_colors(row):\n",
    "        if row['type'] == 'general':\n",
    "            return pd.Series(['green', 'white'])\n",
    "        elif row['type'] == 'major':\n",
    "            return pd.Series(['blue', 'white'])\n",
    "        elif row['type'] == 'required':\n",
    "            return pd.Series(['red', 'white'])\n",
    "        elif row['type'] == 'elective':\n",
    "            return pd.Series(['yellow', 'black'])\n",
    "        else:\n",
    "            return pd.Series(['white', 'black'])  # default colors\n",
    "\n",
    "    def generate_header_data(start_semester, num_periods, data_df = df):\n",
    "        seasons = ['WINTER', 'SPRING', 'SUMMER', 'FALL']\n",
    "        semester_data = []\n",
    "        start_season, start_year = start_semester.split(' ')\n",
    "        start_year = int(start_year)\n",
    "        season_index = seasons.index(start_season)\n",
    "        year = start_year\n",
    "        period = 0\n",
    "\n",
    "        while period < num_periods:\n",
    "            for j in range(season_index, len(seasons)):\n",
    "                semester_data.append(f'{seasons[j]} {year}')\n",
    "                period += 1\n",
    "\n",
    "                # Break the loop when i equals num_periods\n",
    "                if period == num_periods:\n",
    "                    break\n",
    "\n",
    "            # Reset the season index to start from 'WINTER' for the next year\n",
    "            season_index = 0\n",
    "            year += 1\n",
    "\n",
    "        df = pd.DataFrame(semester_data, columns=['term'])\n",
    "        df['width'] = df['term'].apply(lambda x: 190 if 'SUMMER' in x else 260)\n",
    "        df['offset'] = df['term'].apply(lambda x: 2 if 'SUMMER' in x else 3)\n",
    "        df['fontsize'] = '14px'\n",
    "        df['description'] = ''\n",
    "        df['space'] = 40\n",
    "        df['xpos'] = df['width'] + df['space']\n",
    "\n",
    "        x0 = 10\n",
    "        # Calculate the cumulative sum of 'xpos'\n",
    "        df['x'] = df['xpos'].cumsum()\n",
    "        df['x'] = df['x'].shift(1)\n",
    "        df.loc[0, 'x'] = 0\n",
    "        df['x'] = df['x'] + x0\n",
    "        df['y'] = 10\n",
    "        df['color'] = 'lightgray'\n",
    "        df['textcolor'] = 'black'\n",
    "        df['period'] = np.arange(1, num_periods+1)\n",
    "\n",
    "        df.drop\n",
    "        # Sum credits per period and convert to a DataFrame\n",
    "        total_credits = data_df.groupby('period')['credits'].sum().sort_index()\n",
    "        total_credits_df = total_credits.reset_index()\n",
    "\n",
    "        df = pd.merge(df, total_credits_df, on='period', how='inner')\n",
    "        df['name'] = df['term']\n",
    "        df['printname'] = df['name'] + ' (' + df['credits'].astype(str) + ')'\n",
    "\n",
    "        return df[['x', 'y', 'width', 'printname', 'color', 'textcolor', 'offset', \n",
    "                   'fontsize', 'period', 'name', 'credits', 'description']]\n",
    "\n",
    "    # Prepare data for the D3 figure\n",
    "    \n",
    "    max_period = max(df['period'])\n",
    "    headers = generate_header_data(start_term, max_period)\n",
    "\n",
    "    df['description'] = df['prerequisite']\n",
    "    df['width'] = 120\n",
    "    # Calculate 'x' column\n",
    "    df = pd.merge(df, headers[['period','x']], on='period', how='left')\n",
    "    df['x'] += 70*(df['session']-1)\n",
    "\n",
    "    # Calculate 'y' column\n",
    "    df = df.sort_values(by=['period', 'session', 'seq' ])\n",
    "    df['y_row'] = df.groupby('period').cumcount() + 1\n",
    "    df['y'] = 70 + 45 * (df['y_row'] - 1)\n",
    "\n",
    "    # Create rectangle colors\n",
    "    df[['color', 'textcolor']] = df.apply(set_colors, axis=1)\n",
    "\n",
    "    # Set text offset multiplier to 1 and text fontsize\n",
    "    df['offset'] = 1\n",
    "    df['fontsize'] = '12px'\n",
    "    df['printname'] = df['name'] + ' (' + df['credits'].astype(str) + ')'\n",
    "    \n",
    "    df = df[['x', 'y', 'width', 'printname', 'color', 'textcolor', 'offset', 'fontsize', 'period', 'session', 'type', 'name', 'credits', 'description']]\n",
    "\n",
    "    return df, headers\n"
   ]
  },
  {
   "cell_type": "code",
   "execution_count": null,
   "id": "6f1ffb89-b4a4-4fcb-9228-6ab106792060",
   "metadata": {},
   "outputs": [],
   "source": [
    "df = pd.DataFrame(data_json_new)\n",
    "\n",
    "# for new student, set course completion to False\n",
    "# will pick up completed classes in database and from transfer credits\n",
    "# all code will have to ensure we are working on pending courses and filter those where complete='False'\n",
    "#\n",
    "# Will need to do something similar for lock=True when the semester is assigned and we do not want to move it\n",
    "# \n",
    "\n",
    "#df['complete'] = False"
   ]
  },
  {
   "cell_type": "code",
   "execution_count": null,
   "id": "3bbe59e3-2165-406e-97f0-a2093edbebde",
   "metadata": {},
   "outputs": [],
   "source": [
    "start_term = 'SPRING 2024'\n",
    "df, headers = prepare_d3_data(df, start_term)"
   ]
  },
  {
   "cell_type": "code",
   "execution_count": null,
   "id": "8146829f-ff6f-4cd9-be87-5f1afab87b8a",
   "metadata": {},
   "outputs": [],
   "source": [
    "'SUMMER 2024'.capitalize()"
   ]
  },
  {
   "cell_type": "code",
   "execution_count": null,
   "id": "87695de9-b46d-4015-8de7-015d90c2c0f5",
   "metadata": {},
   "outputs": [],
   "source": [
    "terms_remaining = max(headers.period)\n",
    "terms_remaining"
   ]
  },
  {
   "cell_type": "code",
   "execution_count": null,
   "id": "da6384f6-1ab4-4f23-b96a-8dbc4f71aaba",
   "metadata": {},
   "outputs": [],
   "source": [
    "credits_next_term = headers.loc[headers['period'] == 1, 'credits'].values[0]\n",
    "credits_next_term"
   ]
  },
  {
   "cell_type": "code",
   "execution_count": null,
   "id": "01d86670-286d-473a-9c8c-8acb3b558f65",
   "metadata": {},
   "outputs": [],
   "source": [
    "completion_date = headers.loc[headers['period'] == terms_remaining, 'name'].values[0].capitalize()\n",
    "completion_date"
   ]
  },
  {
   "cell_type": "code",
   "execution_count": null,
   "id": "4529a807-b0ed-46f7-af6f-eb88c95cd985",
   "metadata": {},
   "outputs": [],
   "source": [
    "completion_date.upper()"
   ]
  },
  {
   "cell_type": "code",
   "execution_count": null,
   "id": "0bd0b64c-d5b6-4369-b461-c703f172a5b9",
   "metadata": {},
   "outputs": [],
   "source": [
    "total_credits_remaining = df['credits'].sum()\n",
    "total_credits_remaining"
   ]
  },
  {
   "cell_type": "code",
   "execution_count": null,
   "id": "2def591a-6bd4-436b-b84b-23425252b97c",
   "metadata": {},
   "outputs": [],
   "source": [
    "headers = generate_header_data('SPRING 2024', 14)\n",
    "\n",
    "df['width'] = 120\n",
    "# Calculate 'x' column\n",
    "df = pd.merge(df, headers[['period','x']], on='period', how='left')\n",
    "df['x'] += 70*(df['session']-1)\n",
    "\n",
    "# Calculate 'y' column\n",
    "df = df.sort_values(by=['period', 'session', 'seq' ])\n",
    "df['y_row'] = df.groupby('period').cumcount() + 1\n",
    "df['y'] = 70 + 45 * (df['y_row'] - 1)\n",
    "\n",
    "# Create rectangle colors\n",
    "df[['color', 'textcolor']] = df.apply(set_colors, axis=1)\n",
    "\n",
    "# Set text offset multiplier to 1 and text fontsize\n",
    "df['offset'] = 1\n",
    "df['fontsize'] = '12px'\n",
    "\n",
    "df = df[['x', 'y', 'width', 'name', 'credits', 'color', 'textcolor', 'offset', \n",
    "         'fontsize', 'period', 'session']]"
   ]
  },
  {
   "cell_type": "code",
   "execution_count": null,
   "id": "9114b86c-59df-44f1-b09e-477f05f6882d",
   "metadata": {},
   "outputs": [],
   "source": [
    "df"
   ]
  },
  {
   "cell_type": "code",
   "execution_count": null,
   "id": "4137832d-0450-488b-9e56-d11a34e0a25a",
   "metadata": {},
   "outputs": [],
   "source": []
  }
 ],
 "metadata": {
  "kernelspec": {
   "display_name": "Python 3 (ipykernel)",
   "language": "python",
   "name": "python3"
  },
  "language_info": {
   "codemirror_mode": {
    "name": "ipython",
    "version": 3
   },
   "file_extension": ".py",
   "mimetype": "text/x-python",
   "name": "python",
   "nbconvert_exporter": "python",
   "pygments_lexer": "ipython3",
   "version": "3.10.12"
  }
 },
 "nbformat": 4,
 "nbformat_minor": 5
}
