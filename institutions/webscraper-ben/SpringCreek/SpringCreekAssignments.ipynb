{
 "cells": [
  {
   "cell_type": "code",
   "execution_count": 1,
   "id": "59dc4d6e-224d-4202-b214-93f9a8ffa8e0",
   "metadata": {},
   "outputs": [],
   "source": [
    "# Create ClickUp tasks from PlusPortals\n",
    "\n",
    "## PlusPortals Init Section\n",
    "\n",
    "from logging import error\n",
    "from selenium import webdriver\n",
    "from selenium.webdriver.chrome.service import Service\n",
    "from selenium.webdriver.support.ui import WebDriverWait\n",
    "from selenium.webdriver.common.by import By\n",
    "from selenium.webdriver.support import expected_conditions as EC\n",
    "from selenium.webdriver.common.keys import Keys\n",
    "from webdriver_manager.chrome import ChromeDriverManager\n",
    "import json\n",
    "import requests\n",
    "import calendar, time\n",
    "from datetime import date, datetime, timedelta\n",
    "\n",
    "# Try to create a ChromeDriver instance without installing\n",
    "try:\n",
    "    driver = webdriver.Chrome()\n",
    "except:\n",
    "    # If ChromeDriver is not found, install it and then create the instance\n",
    "    ChromeDriverManager().install()\n",
    "    driver = webdriver.Chrome()\n",
    "\n",
    "wait = WebDriverWait(driver, 20)\n",
    "longwait = WebDriverWait(driver, 60)\n",
    "\n",
    "## ClickUp Init Section\n",
    "\n",
    "# Load credentials from JSON configuration file\n",
    "with open('config.json', 'r') as config_file:\n",
    "    config = json.load(config_file)\n",
    "\n",
    "username  = config.get(\"username\")\n",
    "password  = config.get(\"password\")\n",
    "api_token = config.get(\"api\") # ClickUp API token\n",
    "\n",
    "# ClickUp Space ID and List ID \n",
    "space_id = '9006014177'\n",
    "list_id = '901100521675'\n",
    "\n",
    "# API endpoint URLs\n",
    "base_url = \"https://api.clickup.com/api/v2\"\n",
    "tasks_url = f\"{base_url}/list/{list_id}/task\"\n",
    "\n",
    "# Headers with authentication token\n",
    "headers = {\n",
    "    \"Authorization\": api_token,\n",
    "    \"Content-Type\": \"application/json\"\n",
    "}\n",
    "\n",
    "def login():\n",
    "    # Open the login page\n",
    "    login_url = 'https://plusportals.com/springcreekacademy'\n",
    "    driver.get(login_url)\n",
    "\n",
    "    ## Enter the username and password\n",
    "    driver.find_element(By.ID, \"UserName\").send_keys(username)\n",
    "    driver.find_element(By.ID, \"Password\").send_keys(password)\n",
    "\n",
    "    # Locate and click the \"Sign in\" button\n",
    "    submit_txt = 'input[type=\"submit\"][value=\"Sign in\"]'\n",
    "    wait.until(EC.element_to_be_clickable((By.CSS_SELECTOR, submit_txt))).click()\n",
    "\n",
    "def set_pending_coursework():\n",
    "    # Locate the Coursework Menu\n",
    "    find_txt = \"span.k-widget.k-dropdown.k-header[aria-owns='mCourseworkRangeId_1728_listbox']\"\n",
    "    longwait.until(EC.element_to_be_clickable((By.CSS_SELECTOR, find_txt))).click()\n",
    "    # Select Pending Coursework\n",
    "    wait.until(EC.element_to_be_clickable((By.XPATH, \"//li[text()='Pending Coursework']\"))).click()\n",
    "\n",
    "def find_xpath(x):\n",
    "    xpath = '//*[@id=\"gridCoursework_1728\"]/div[2]/table/tbody/tr[1]/td[' + str(x) + ']'\n",
    "    result = driver.find_element(By.XPATH, xpath).text\n",
    "    return(result)\n",
    "\n",
    "def any_tasks():\n",
    "# determine if there are any homework assignments\n",
    "    try:\n",
    "        find_xpath(1)\n",
    "        proceed = True\n",
    "    except:\n",
    "        proceed = False\n",
    "\n",
    "    return(proceed)\n",
    "\n",
    "def mark_complete():\n",
    "    # Locate the 3 dots and click them\n",
    "    threedots = '//*[@id=\"gridCoursework_1728\"]/div[2]/table/tbody/tr[1]/td[7]/img'\n",
    "    wait.until(EC.element_to_be_clickable((By.XPATH, threedots))).click()\n",
    "\n",
    "    # select 'Mark as Completed'\n",
    "    completed_txt = '//*[@id=\"context-menu\"]/li[3]/span'\n",
    "    wait.until(EC.element_to_be_clickable((By.XPATH, completed_txt))).click()\n",
    "    \n",
    "def process_row():\n",
    "    a_course  = find_xpath(2)\n",
    "    a_title   = find_xpath(3)\n",
    "    a_details = find_xpath(4)\n",
    "    a_due     = find_xpath(6)\n",
    "\n",
    "    task = {\n",
    "        'course': a_course,\n",
    "        'title': a_title,\n",
    "        'details': a_details,\n",
    "        'due': a_due\n",
    "    }\n",
    "\n",
    "    return(task)\n",
    "\n",
    "def ok(method=1):\n",
    "    # wrap the click_ok() function to catch errors\n",
    "    result = True\n",
    "    try:\n",
    "        if method==1:\n",
    "            # click ok button on popup window\n",
    "            wait.until(EC.element_to_be_clickable((By.CLASS_NAME, 'btnOK'))).click()\n",
    "        \n",
    "        elif method==2:\n",
    "            from selenium.webdriver.common.action_chains import ActionChains\n",
    "            # Locate the OK button by its class name\n",
    "            button = driver.find_element(By.CLASS_NAME, 'btnOK')\n",
    "            driver.implicitly_wait(10)\n",
    "            ActionChains(driver).move_to_element(button).click(button).perform()\n",
    "        \n",
    "        elif method==3:\n",
    "            button = driver.find_element(By.CLASS_NAME, 'btnOK')\n",
    "\n",
    "            # Scroll to the OK button\n",
    "            driver.execute_script(\"arguments[0].scrollIntoView();\", button)\n",
    "            button.click()\n",
    "\n",
    "        elif method==4:\n",
    "            button = driver.find_element(By.CLASS_NAME, 'btnOK k-button ')\n",
    "            ## Scroll to the OK button\n",
    "            #driver.execute_script(\"arguments[0].scrollIntoView();\", button)\n",
    "            button.click()\n",
    "\n",
    "        elif method==5:\n",
    "            button = driver.find_element(By.CLASS_NAME, 'btnOK k-button ')\n",
    "\n",
    "            relative = '//*[@id=\"top\"]/div[29]/div[2]/button'\n",
    "            absolute = '/html/body/div[29]/div[2]/button'\n",
    "            button = driver.find_element(By.XPATH, absolute)\n",
    "\n",
    "            ## Scroll to the OK button\n",
    "            #driver.execute_script(\"arguments[0].scrollIntoView();\", button)\n",
    "            button.click()\n",
    "\n",
    "    except:\n",
    "        # input(\"Click OK then press Enter to continue...\")\n",
    "        print(\"OK button was not clicked\")\n",
    "        result = False\n",
    "\n",
    "    return result \n",
    "\n",
    "def posix_date(due):\n",
    "    def click_time(entry):\n",
    "        result = calendar.timegm(time.strptime(entry + ' 12:15:00', \n",
    "                                           '%m-%d-%Y %H:%M:%S')) * 1000\n",
    "        return result \n",
    "    \n",
    "    if (due == 'Today'):\n",
    "        due = date.today().strftime('%m-%d-%Y')\n",
    "    elif (due == 'Tomorrow'):\n",
    "        due = (date.today() + timedelta(days=1)).strftime('%m-%d-%Y')\n",
    "\n",
    "    start_date = click_time(date.today().strftime('%m-%d-%Y'))\n",
    "    due_date = click_time(due)\n",
    "    \n",
    "    result = {\"start\": start_date, \"due\": due_date}\n",
    "    return result \n",
    "\n",
    "def create_clickup_task(task):\n",
    "\n",
    "    # Dictionary to convert from course id to tags\n",
    "    c2tag = {\n",
    "        '9PERFIN 5759/02': 'personal finance',\n",
    "        '11ENG 3150/01': 'english',\n",
    "        '11ALG2H 3351/01': 'algebra 2',\n",
    "        '11USHIST 3450/01': 'us history',\n",
    "        '11SPN3H 3551/01': 'spanish'\n",
    "    }\n",
    "    dates = posix_date(task['due'])\n",
    "    \n",
    "    task_data = {\n",
    "        \"name\": task['title'],\n",
    "        \"description\": task['details'],\n",
    "        \"status\": \"BACKLOG\",\n",
    "        \"priority\": 3,\n",
    "        \"due_date\": dates['due'],\n",
    "        \"tags\": [c2tag[task['course']]]\n",
    "    }\n",
    "\n",
    "    # Create the task\n",
    "    response = requests.post(tasks_url, headers=headers, json=task_data)\n",
    "\n",
    "    # Check the response\n",
    "    if response.status_code == 200:\n",
    "        print(\"Task created successfully!\")\n",
    "        task_info = response.json()\n",
    "        print(\"Task ID:\", task_info[\"id\"])\n",
    "        success = True\n",
    "    else:\n",
    "        print(\"Error creating task. Status code:\", response.status_code)\n",
    "        print(\"Response:\", response.text)\n",
    "        success = False\n",
    "\n",
    "    return success \n",
    "\n",
    "def do_task():\n",
    "    task = process_row()\n",
    "    if create_clickup_task(task):\n",
    "        mark_complete()\n",
    "        worked = ok(3)\n",
    "        if not worked:\n",
    "            input(\"Click OK then press Enter to continue...\")\n",
    "        succeed = True\n",
    "    else:\n",
    "        print(\"Error creating clickup task\")\n",
    "        succeed = False\n",
    "\n",
    "    return succeed "
   ]
  },
  {
   "cell_type": "code",
   "execution_count": 2,
   "id": "5f53b4c6-3e68-4cd9-9f52-3f79efc09c41",
   "metadata": {},
   "outputs": [],
   "source": [
    "# initialize assignments\n",
    "login()\n",
    "set_pending_coursework()"
   ]
  },
  {
   "cell_type": "code",
   "execution_count": 3,
   "id": "2de58332-db28-4d48-9bc3-167a3beb14ae",
   "metadata": {},
   "outputs": [
    {
     "name": "stdout",
     "output_type": "stream",
     "text": [
      "Task created successfully!\n",
      "Task ID: 8685mkw0n\n",
      "OK button was not clicked\n"
     ]
    },
    {
     "name": "stdin",
     "output_type": "stream",
     "text": [
      "Click OK then press Enter to continue... \n"
     ]
    },
    {
     "name": "stdout",
     "output_type": "stream",
     "text": [
      "Task created successfully!\n",
      "Task ID: 8685mkw0r\n",
      "OK button was not clicked\n"
     ]
    },
    {
     "name": "stdin",
     "output_type": "stream",
     "text": [
      "Click OK then press Enter to continue... \n"
     ]
    },
    {
     "name": "stdout",
     "output_type": "stream",
     "text": [
      "Task created successfully!\n",
      "Task ID: 8685mkw0t\n",
      "OK button was not clicked\n"
     ]
    },
    {
     "name": "stdin",
     "output_type": "stream",
     "text": [
      "Click OK then press Enter to continue... \n"
     ]
    },
    {
     "name": "stdout",
     "output_type": "stream",
     "text": [
      "Task created successfully!\n",
      "Task ID: 8685mkw0x\n",
      "OK button was not clicked\n"
     ]
    },
    {
     "name": "stdin",
     "output_type": "stream",
     "text": [
      "Click OK then press Enter to continue... \n"
     ]
    },
    {
     "name": "stdout",
     "output_type": "stream",
     "text": [
      "Task created successfully!\n",
      "Task ID: 8685mkw12\n",
      "OK button was not clicked\n"
     ]
    },
    {
     "name": "stdin",
     "output_type": "stream",
     "text": [
      "Click OK then press Enter to continue... \n"
     ]
    },
    {
     "name": "stdout",
     "output_type": "stream",
     "text": [
      "Task created successfully!\n",
      "Task ID: 8685mkw13\n",
      "OK button was not clicked\n"
     ]
    },
    {
     "name": "stdin",
     "output_type": "stream",
     "text": [
      "Click OK then press Enter to continue... \n"
     ]
    },
    {
     "name": "stdout",
     "output_type": "stream",
     "text": [
      "Task created successfully!\n",
      "Task ID: 8685mkw1e\n",
      "OK button was not clicked\n"
     ]
    },
    {
     "name": "stdin",
     "output_type": "stream",
     "text": [
      "Click OK then press Enter to continue... \n"
     ]
    },
    {
     "name": "stdout",
     "output_type": "stream",
     "text": [
      "Task created successfully!\n",
      "Task ID: 8685mkw1x\n",
      "OK button was not clicked\n"
     ]
    },
    {
     "name": "stdin",
     "output_type": "stream",
     "text": [
      "Click OK then press Enter to continue... \n"
     ]
    },
    {
     "name": "stdout",
     "output_type": "stream",
     "text": [
      "Task created successfully!\n",
      "Task ID: 8685mkw21\n",
      "OK button was not clicked\n"
     ]
    },
    {
     "name": "stdin",
     "output_type": "stream",
     "text": [
      "Click OK then press Enter to continue... \n"
     ]
    },
    {
     "name": "stdout",
     "output_type": "stream",
     "text": [
      "Task created successfully!\n",
      "Task ID: 8685mkw2e\n",
      "OK button was not clicked\n"
     ]
    },
    {
     "name": "stdin",
     "output_type": "stream",
     "text": [
      "Click OK then press Enter to continue... \n"
     ]
    },
    {
     "name": "stdout",
     "output_type": "stream",
     "text": [
      "Task created successfully!\n",
      "Task ID: 8685mkw2m\n",
      "OK button was not clicked\n"
     ]
    },
    {
     "name": "stdin",
     "output_type": "stream",
     "text": [
      "Click OK then press Enter to continue... \n"
     ]
    },
    {
     "name": "stdout",
     "output_type": "stream",
     "text": [
      "Task created successfully!\n",
      "Task ID: 8685mkw33\n",
      "OK button was not clicked\n"
     ]
    },
    {
     "name": "stdin",
     "output_type": "stream",
     "text": [
      "Click OK then press Enter to continue... \n"
     ]
    },
    {
     "name": "stdout",
     "output_type": "stream",
     "text": [
      "Task created successfully!\n",
      "Task ID: 8685mkw3p\n",
      "OK button was not clicked\n"
     ]
    },
    {
     "name": "stdin",
     "output_type": "stream",
     "text": [
      "Click OK then press Enter to continue... \n"
     ]
    },
    {
     "name": "stdout",
     "output_type": "stream",
     "text": [
      "Task created successfully!\n",
      "Task ID: 8685mkw4h\n",
      "OK button was not clicked\n"
     ]
    },
    {
     "name": "stdin",
     "output_type": "stream",
     "text": [
      "Click OK then press Enter to continue... \n"
     ]
    },
    {
     "name": "stdout",
     "output_type": "stream",
     "text": [
      "Task created successfully!\n",
      "Task ID: 8685mkw55\n",
      "OK button was not clicked\n"
     ]
    },
    {
     "name": "stdin",
     "output_type": "stream",
     "text": [
      "Click OK then press Enter to continue... \n"
     ]
    },
    {
     "name": "stdout",
     "output_type": "stream",
     "text": [
      "Task created successfully!\n",
      "Task ID: 8685mkw5p\n",
      "OK button was not clicked\n"
     ]
    },
    {
     "name": "stdin",
     "output_type": "stream",
     "text": [
      "Click OK then press Enter to continue... \n"
     ]
    },
    {
     "name": "stdout",
     "output_type": "stream",
     "text": [
      "Task created successfully!\n",
      "Task ID: 8685mkw60\n",
      "OK button was not clicked\n"
     ]
    },
    {
     "name": "stdin",
     "output_type": "stream",
     "text": [
      "Click OK then press Enter to continue... \n"
     ]
    },
    {
     "name": "stdout",
     "output_type": "stream",
     "text": [
      "Task created successfully!\n",
      "Task ID: 8685mkw6e\n",
      "OK button was not clicked\n"
     ]
    },
    {
     "name": "stdin",
     "output_type": "stream",
     "text": [
      "Click OK then press Enter to continue... \n"
     ]
    }
   ],
   "source": [
    "while any_tasks():\n",
    "    if not do_task():\n",
    "        break\n",
    "# Close the WebDriver"
   ]
  },
  {
   "cell_type": "code",
   "execution_count": null,
   "id": "77e390e5-ffab-45bb-a983-cd00546077ae",
   "metadata": {},
   "outputs": [],
   "source": []
  },
  {
   "cell_type": "code",
   "execution_count": null,
   "id": "1560855f-9ceb-4841-8f75-4be63d6c9a20",
   "metadata": {},
   "outputs": [],
   "source": [
    "do_task()"
   ]
  },
  {
   "cell_type": "code",
   "execution_count": null,
   "id": "3213c2b6-2b81-4684-8424-a42b2c7a7905",
   "metadata": {},
   "outputs": [],
   "source": [
    "driver.quit()"
   ]
  },
  {
   "cell_type": "code",
   "execution_count": null,
   "id": "a17563ff-33d5-4de7-b7d7-c0404c301e56",
   "metadata": {},
   "outputs": [],
   "source": [
    "def ok(method=1):\n",
    "    # wrap the click_ok() function to catch errors\n",
    "    try:\n",
    "        if method==1:\n",
    "            # click ok button on popup window\n",
    "            wait.until(EC.element_to_be_clickable((By.CLASS_NAME, 'btnOK'))).click()\n",
    "        \n",
    "        elif method==2:\n",
    "            from selenium.webdriver.common.action_chains import ActionChains\n",
    "            button = driver.find_element(By.XPATH, \"//button[text()='OK']\")\n",
    "            ActionChains(driver).move_to_element(button).click().perform()\n",
    "        \n",
    "        elif method==3:\n",
    "            button = driver.find_element(By.CLASS_NAME, 'btnOK')\n",
    "\n",
    "            # Scroll to the OK button\n",
    "            driver.execute_script(\"arguments[0].scrollIntoView();\", button)\n",
    "            button.click()\n",
    "\n",
    "        elif method==4:\n",
    "            button = driver.find_element(By.CLASS_NAME, 'btnOK k-button ')\n",
    "            ## Scroll to the OK button\n",
    "            #driver.execute_script(\"arguments[0].scrollIntoView();\", button)\n",
    "            button.click()\n",
    "\n",
    "        elif method==5:\n",
    "            button = driver.find_element(By.CLASS_NAME, 'btnOK k-button ')\n",
    "\n",
    "            relative = '//*[@id=\"top\"]/div[29]/div[2]/button'\n",
    "            absolute = '/html/body/div[29]/div[2]/button'\n",
    "            button = driver.find_element(By.XPATH, absolute)\n",
    "\n",
    "            ## Scroll to the OK button\n",
    "            #driver.execute_script(\"arguments[0].scrollIntoView();\", button)\n",
    "            button.click()\n",
    "\n",
    "    except:\n",
    "        input(\"Click OK then press Enter to continue...\")\n"
   ]
  },
  {
   "cell_type": "markdown",
   "id": "9c24806d-3e9b-4713-ab2a-fc65448382fb",
   "metadata": {},
   "source": [
    "### Tasks to finish\n",
    "\n",
    "1. Figure out how to add Ben's user id number"
   ]
  },
  {
   "cell_type": "code",
   "execution_count": null,
   "id": "e6c7a42c-fa11-4337-82ff-b79da4813ec6",
   "metadata": {},
   "outputs": [],
   "source": []
  }
 ],
 "metadata": {
  "kernelspec": {
   "display_name": "Python 3 (ipykernel)",
   "language": "python",
   "name": "python3"
  },
  "language_info": {
   "codemirror_mode": {
    "name": "ipython",
    "version": 3
   },
   "file_extension": ".py",
   "mimetype": "text/x-python",
   "name": "python",
   "nbconvert_exporter": "python",
   "pygments_lexer": "ipython3",
   "version": "3.10.12"
  }
 },
 "nbformat": 4,
 "nbformat_minor": 5
}
